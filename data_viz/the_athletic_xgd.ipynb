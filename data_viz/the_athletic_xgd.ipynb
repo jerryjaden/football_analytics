{
 "cells": [
  {
   "cell_type": "code",
<<<<<<< HEAD:the_athletic_xgd.ipynb
   "execution_count": 2,
=======
   "execution_count": 1,
>>>>>>> 21490a306b737fefc052039437f954f59b58b90a:data_viz/the_athletic_xgd.ipynb
   "metadata": {},
   "outputs": [],
   "source": [
    "import pandas as pd\n",
    "import urllib.request\n",
    "\n",
    "from plotly.subplots import make_subplots\n",
    "import plotly.graph_objects as go\n",
    "import plotly.express as px\n",
    "import plotly.io as pio\n",
    "\n"
   ]
  },
  {
   "cell_type": "code",
<<<<<<< HEAD:the_athletic_xgd.ipynb
   "execution_count": 3,
=======
   "execution_count": 2,
>>>>>>> 21490a306b737fefc052039437f954f59b58b90a:data_viz/the_athletic_xgd.ipynb
   "metadata": {},
   "outputs": [],
   "source": [
    "background_color = '#f7f8f3'\n",
    "sec_color = '#BBC4C2'"
   ]
  },
  {
   "cell_type": "code",
<<<<<<< HEAD:the_athletic_xgd.ipynb
   "execution_count": 4,
=======
   "execution_count": 3,
>>>>>>> 21490a306b737fefc052039437f954f59b58b90a:data_viz/the_athletic_xgd.ipynb
   "metadata": {},
   "outputs": [],
   "source": [
    "url = 'https://fbref.com/en/comps/9/schedule/Premier-League-Scores-and-Fixtures'\n",
    "df = pd.read_html('https://fbref.com/en/comps/9/schedule/Premier-League-Scores-and-Fixtures', \n",
    "                  attrs = {'id':'sched_2024-2025_9_1'})[0]"
   ]
  },
  {
   "cell_type": "code",
<<<<<<< HEAD:the_athletic_xgd.ipynb
   "execution_count": 7,
=======
   "execution_count": 4,
>>>>>>> 21490a306b737fefc052039437f954f59b58b90a:data_viz/the_athletic_xgd.ipynb
   "metadata": {},
   "outputs": [],
   "source": [
    "def plot_xgd(url):\n",
    "    # Read the HTML table from the given URL, filtering by the specified table id\n",
    "    df = pd.read_html(url, attrs={'id': 'sched_2024-2025_9_1'})[0]\n",
    "    \n",
    "    # Drop rows with missing 'Score' values and unnecessary columns in one go\n",
    "    df = df.dropna(subset=['Score'])\n",
    "\n",
    "    # Convert 'Wk' to integer, 'datetime' from 'Date' + 'Time', and 'Attendance' to integer\n",
    "    df['Wk'] = df['Wk'].astype(int)\n",
    "    df['datetime'] = pd.to_datetime(df['Date'] + ' ' + df['Time'])\n",
    "    df['Attendance'] = df['Attendance'].fillna(0).astype(int)\n",
    "    \n",
    "    # Split 'Score' into 'home_goals' and 'away_goals' using en dash, and convert to integers\n",
    "    df[['home_goals', 'away_goals']] = df['Score'].str.split('–', expand=True).astype(int)\n",
    "    \n",
    "    # Rename xG columns in one step\n",
    "    df.rename(columns={'xG': 'xG_home', 'xG.1': 'xG_away'}, inplace=True)\n",
    "    \n",
    "    # Aggregate xG data by unique Home and Away match-ups\n",
    "    xGD_df = df.groupby(['Home', 'Away']).agg(\n",
    "        xG_for=('xG_home', 'sum'),\n",
    "        xG_against=('xG_away', 'sum')\n",
    "    ).reset_index()\n",
    "    \n",
    "    # List of unique teams to use for plotting\n",
    "    teams = xGD_df['Home'].unique()\n",
    "    \n",
    "    # Create a 4x5 grid of subplots with shared x and y axes\n",
    "    fig = make_subplots(rows=4, cols=5, subplot_titles=teams, vertical_spacing=0.1, horizontal_spacing=0.05)\n",
    "\n",
    "    # Loop through each team and add data to subplots\n",
    "    for idx, team in enumerate(teams):\n",
    "        row, col = (idx // 5) + 1, (idx % 5) + 1\n",
    "        \n",
    "        # Filter team data (both home and away)\n",
    "        team_data_home = xGD_df[xGD_df['Home'] == team]\n",
    "        team_data_away = xGD_df[xGD_df['Away'] == team]\n",
    "\n",
    "        # Helper function to add data points\n",
    "        def add_data_points(data, x_col, y_col, opponent_col, hover_format):\n",
    "            for _, row_data in data.iterrows():\n",
    "                color = '#ED2461' if row_data[x_col] > row_data[y_col] else '#398170'\n",
    "                fig.add_trace(\n",
    "                    go.Scatter(\n",
    "                        x=[row_data[x_col]], \n",
    "                        y=[row_data[y_col]],\n",
    "                        mode='markers', \n",
    "                        marker=dict(color=color, size=12),\n",
    "                        text=hover_format.format(opponent=row_data[opponent_col], xG_for=row_data[x_col], xG_against=row_data[y_col]),\n",
    "                        hoverinfo='text',\n",
    "                        showlegend=False\n",
    "                    ),\n",
    "                    row=row, col=col\n",
    "                )\n",
    "        \n",
    "        # Add home and away performances\n",
    "        add_data_points(team_data_home, 'xG_against', 'xG_for', 'Away', \"Opponent: {opponent}<br>xG For: {xG_for}<br>xG Against: {xG_against}\")\n",
    "        add_data_points(team_data_away, 'xG_for', 'xG_against', 'Home', \"Opponent: {opponent}<br>xG For: {xG_against}<br>xG Against: {xG_for}\")\n",
    "\n",
    "        # Add a reference line for xG parity (x=y line)\n",
    "        fig.add_trace(\n",
    "            go.Scatter(x=[0, 5], y=[0, 5], mode='lines', line=dict(color='#747474', dash='dash'), showlegend=False),\n",
    "            row=row, col=col\n",
    "        )\n",
    "\n",
    "    # General layout settings for the plot\n",
    "    fig.update_layout(\n",
    "        height=900,\n",
    "        width=1600,\n",
    "        title={\n",
    "            'text': 'How have each Premier League team performed in both boxes?',\n",
    "            'font': dict(size=18, color='black', family='Arial Black'),\n",
    "        },\n",
    "        plot_bgcolor=background_color,\n",
    "        paper_bgcolor=background_color\n",
    "    )\n",
    "\n",
    "    # Adding subtitle using annotation\n",
    "    fig.add_annotation(\n",
    "        text='Expected goals (xG) for and against per game | Premier League, 2024-25',\n",
    "        xref='paper', yref='paper',\n",
    "        x=-0.0, y=1.06,\n",
    "        showarrow=False,\n",
    "        font=dict(size=16, color='gray', family='Raleway'),\n",
    "        align='center'\n",
    "    )\n",
    "\n",
    "    # Axis labels formatting for the entire figure\n",
    "    for i in range(1, 21):  # Assuming 20 subplots\n",
    "        fig['layout'][f'xaxis{i}'].update(tickvals=[0, 1, 2, 3, 4, 5], gridcolor=sec_color, griddash='dot')\n",
    "        fig['layout'][f'yaxis{i}'].update(tickvals=[0, 1, 2, 3, 4, 5], gridcolor=sec_color, griddash='dot')\n",
    "    \n",
    "    # X and Y axis labels for the entire plot\n",
    "    fig.add_annotation(\n",
    "        text='xG Against',\n",
    "        xref='paper', yref='paper',\n",
    "        x=0.5, y=-0.07,\n",
    "        showarrow=False,\n",
    "        font=dict(size=18, color='black', family='Raleway'),\n",
    "        align='center'\n",
    "    )\n",
    "    fig.add_annotation(\n",
    "        text='xG For',\n",
    "        xref='paper', yref='paper',\n",
    "        x=-0.04, y=0.5,\n",
    "        showarrow=False,\n",
    "        font=dict(size=18, color='black', family='Raleway'),\n",
    "        textangle=-90,\n",
    "        align='center'\n",
    "    )\n",
    "\n",
    "    # Display the final plot\n",
    "    fig.show()\n",
    "    fig.write_image(\"plot_xgd.jpeg\", format=\"jpeg\", width=1600, height=900, scale=2)\n"
   ]
  },
  {
   "cell_type": "code",
<<<<<<< HEAD:the_athletic_xgd.ipynb
   "execution_count": 8,
=======
   "execution_count": 5,
>>>>>>> 21490a306b737fefc052039437f954f59b58b90a:data_viz/the_athletic_xgd.ipynb
   "metadata": {},
   "outputs": [
    {
     "data": {
      "application/vnd.plotly.v1+json": {
       "config": {
        "plotlyServerURL": "https://plot.ly"
       },
       "data": [
        {
         "hoverinfo": "text",
         "marker": {
          "color": "#398170",
          "size": 12
         },
         "mode": "markers",
         "showlegend": false,
         "text": "Opponent: Brighton<br>xG For: 1.7<br>xG Against: 2.1",
         "type": "scatter",
         "x": [
          1.7
         ],
         "xaxis": "x",
         "y": [
          2.1
         ],
         "yaxis": "y"
        },
        {
         "hoverinfo": "text",
         "marker": {
          "color": "#398170",
          "size": 12
         },
         "mode": "markers",
         "showlegend": false,
         "text": "Opponent: Leicester City<br>xG For: 0.3<br>xG Against: 4.4",
         "type": "scatter",
         "x": [
          0.3
         ],
         "xaxis": "x",
         "y": [
          4.4
         ],
         "yaxis": "y"
        },
        {
         "hoverinfo": "text",
         "marker": {
          "color": "#398170",
          "size": 12
         },
         "mode": "markers",
         "showlegend": false,
         "text": "Opponent: Southampton<br>xG For: 0.6<br>xG Against: 2.8",
         "type": "scatter",
         "x": [
          0.6
         ],
         "xaxis": "x",
         "y": [
          2.8
         ],
         "yaxis": "y"
        },
        {
         "hoverinfo": "text",
         "marker": {
          "color": "#398170",
          "size": 12
         },
         "mode": "markers",
         "showlegend": false,
         "text": "Opponent: Wolves<br>xG For: 0.5<br>xG Against: 1.2",
         "type": "scatter",
         "x": [
          0.5
         ],
         "xaxis": "x",
         "y": [
          1.2
         ],
         "yaxis": "y"
        },
        {
         "hoverinfo": "text",
         "marker": {
          "color": "#ED2461",
          "size": 12
         },
         "mode": "markers",
         "showlegend": false,
         "text": "Opponent: Aston Villa<br>xG For: 0.9<br>xG Against: 1.2",
         "type": "scatter",
         "x": [
          1.2
         ],
         "xaxis": "x",
         "y": [
          0.9
         ],
         "yaxis": "y"
        },
        {
         "hoverinfo": "text",
         "marker": {
          "color": "#ED2461",
          "size": 12
         },
         "mode": "markers",
         "showlegend": false,
         "text": "Opponent: Bournemouth<br>xG For: 0.7<br>xG Against: 1.8",
         "type": "scatter",
         "x": [
          1.8
         ],
         "xaxis": "x",
         "y": [
          0.7
         ],
         "yaxis": "y"
        },
        {
         "hoverinfo": "text",
         "marker": {
          "color": "#ED2461",
          "size": 12
         },
         "mode": "markers",
         "showlegend": false,
         "text": "Opponent: Manchester City<br>xG For: 0.7<br>xG Against: 2.1",
         "type": "scatter",
         "x": [
          2.1
         ],
         "xaxis": "x",
         "y": [
          0.7
         ],
         "yaxis": "y"
        },
        {
         "hoverinfo": "text",
         "marker": {
          "color": "#398170",
          "size": 12
         },
         "mode": "markers",
         "showlegend": false,
         "text": "Opponent: Tottenham<br>xG For: 0.7<br>xG Against: 0.7",
         "type": "scatter",
         "x": [
          0.7
         ],
         "xaxis": "x",
         "y": [
          0.7
         ],
         "yaxis": "y"
        },
        {
         "line": {
          "color": "#747474",
          "dash": "dash"
         },
         "mode": "lines",
         "showlegend": false,
         "type": "scatter",
         "x": [
          0,
          5
         ],
         "xaxis": "x",
         "y": [
          0,
          5
         ],
         "yaxis": "y"
        },
        {
         "hoverinfo": "text",
         "marker": {
          "color": "#398170",
          "size": 12
         },
         "mode": "markers",
         "showlegend": false,
         "text": "Opponent: Arsenal<br>xG For: 0.9<br>xG Against: 1.2",
         "type": "scatter",
         "x": [
          0.9
         ],
         "xaxis": "x2",
         "y": [
          1.2
         ],
         "yaxis": "y2"
        },
        {
         "hoverinfo": "text",
         "marker": {
          "color": "#398170",
          "size": 12
         },
         "mode": "markers",
         "showlegend": false,
         "text": "Opponent: Everton<br>xG For: 0.9<br>xG Against: 2.1",
         "type": "scatter",
         "x": [
          0.9
         ],
         "xaxis": "x2",
         "y": [
          2.1
         ],
         "yaxis": "y2"
        },
        {
         "hoverinfo": "text",
         "marker": {
          "color": "#ED2461",
          "size": 12
         },
         "mode": "markers",
         "showlegend": false,
         "text": "Opponent: Manchester Utd<br>xG For: 0.6<br>xG Against: 0.5",
         "type": "scatter",
         "x": [
          0.6
         ],
         "xaxis": "x2",
         "y": [
          0.5
         ],
         "yaxis": "y2"
        },
        {
         "hoverinfo": "text",
         "marker": {
          "color": "#398170",
          "size": 12
         },
         "mode": "markers",
         "showlegend": false,
         "text": "Opponent: Wolves<br>xG For: 0.5<br>xG Against: 1.7",
         "type": "scatter",
         "x": [
          0.5
         ],
         "xaxis": "x2",
         "y": [
          1.7
         ],
         "yaxis": "y2"
        },
        {
         "hoverinfo": "text",
         "marker": {
          "color": "#ED2461",
          "size": 12
         },
         "mode": "markers",
         "showlegend": false,
         "text": "Opponent: Fulham<br>xG For: 1.6<br>xG Against: 1.8",
         "type": "scatter",
         "x": [
          1.8
         ],
         "xaxis": "x2",
         "y": [
          1.6
         ],
         "yaxis": "y2"
        },
        {
         "hoverinfo": "text",
         "marker": {
          "color": "#ED2461",
          "size": 12
         },
         "mode": "markers",
         "showlegend": false,
         "text": "Opponent: Ipswich Town<br>xG For: 0.8<br>xG Against: 1.2",
         "type": "scatter",
         "x": [
          1.2
         ],
         "xaxis": "x2",
         "y": [
          0.8
         ],
         "yaxis": "y2"
        },
        {
         "hoverinfo": "text",
         "marker": {
          "color": "#398170",
          "size": 12
         },
         "mode": "markers",
         "showlegend": false,
         "text": "Opponent: Leicester City<br>xG For: 1.4<br>xG Against: 0.4",
         "type": "scatter",
         "x": [
          0.4
         ],
         "xaxis": "x2",
         "y": [
          1.4
         ],
         "yaxis": "y2"
        },
        {
         "hoverinfo": "text",
         "marker": {
          "color": "#ED2461",
          "size": 12
         },
         "mode": "markers",
         "showlegend": false,
         "text": "Opponent: West Ham<br>xG For: 2.0<br>xG Against: 2.3",
         "type": "scatter",
         "x": [
          2.3
         ],
         "xaxis": "x2",
         "y": [
          2
         ],
         "yaxis": "y2"
        },
        {
         "line": {
          "color": "#747474",
          "dash": "dash"
         },
         "mode": "lines",
         "showlegend": false,
         "type": "scatter",
         "x": [
          0,
          5
         ],
         "xaxis": "x2",
         "y": [
          0,
          5
         ],
         "yaxis": "y2"
        },
        {
         "hoverinfo": "text",
         "marker": {
          "color": "#398170",
          "size": 12
         },
         "mode": "markers",
         "showlegend": false,
         "text": "Opponent: Arsenal<br>xG For: 0.7<br>xG Against: 1.8",
         "type": "scatter",
         "x": [
          0.7
         ],
         "xaxis": "x3",
         "y": [
          1.8
         ],
         "yaxis": "y3"
        },
        {
         "hoverinfo": "text",
         "marker": {
          "color": "#398170",
          "size": 12
         },
         "mode": "markers",
         "showlegend": false,
         "text": "Opponent: Chelsea<br>xG For: 0.8<br>xG Against: 1.7",
         "type": "scatter",
         "x": [
          0.8
         ],
         "xaxis": "x3",
         "y": [
          1.7
         ],
         "yaxis": "y3"
        },
        {
         "hoverinfo": "text",
         "marker": {
          "color": "#398170",
          "size": 12
         },
         "mode": "markers",
         "showlegend": false,
         "text": "Opponent: Newcastle Utd<br>xG For: 1.6<br>xG Against: 2.2",
         "type": "scatter",
         "x": [
          1.6
         ],
         "xaxis": "x3",
         "y": [
          2.2
         ],
         "yaxis": "y3"
        },
        {
         "hoverinfo": "text",
         "marker": {
          "color": "#398170",
          "size": 12
         },
         "mode": "markers",
         "showlegend": false,
         "text": "Opponent: Southampton<br>xG For: 0.6<br>xG Against: 1.3",
         "type": "scatter",
         "x": [
          0.6
         ],
         "xaxis": "x3",
         "y": [
          1.3
         ],
         "yaxis": "y3"
        },
        {
         "hoverinfo": "text",
         "marker": {
          "color": "#398170",
          "size": 12
         },
         "mode": "markers",
         "showlegend": false,
         "text": "Opponent: Everton<br>xG For: 2.4<br>xG Against: 1.8",
         "type": "scatter",
         "x": [
          1.8
         ],
         "xaxis": "x3",
         "y": [
          2.4
         ],
         "yaxis": "y3"
        },
        {
         "hoverinfo": "text",
         "marker": {
          "color": "#398170",
          "size": 12
         },
         "mode": "markers",
         "showlegend": false,
         "text": "Opponent: Leicester City<br>xG For: 2.1<br>xG Against: 0.8",
         "type": "scatter",
         "x": [
          0.8
         ],
         "xaxis": "x3",
         "y": [
          2.1
         ],
         "yaxis": "y3"
        },
        {
         "hoverinfo": "text",
         "marker": {
          "color": "#ED2461",
          "size": 12
         },
         "mode": "markers",
         "showlegend": false,
         "text": "Opponent: Liverpool<br>xG For: 1.1<br>xG Against: 2.0",
         "type": "scatter",
         "x": [
          2
         ],
         "xaxis": "x3",
         "y": [
          1.1
         ],
         "yaxis": "y3"
        },
        {
         "hoverinfo": "text",
         "marker": {
          "color": "#ED2461",
          "size": 12
         },
         "mode": "markers",
         "showlegend": false,
         "text": "Opponent: Nott'ham Forest<br>xG For: 1.2<br>xG Against: 1.3",
         "type": "scatter",
         "x": [
          1.3
         ],
         "xaxis": "x3",
         "y": [
          1.2
         ],
         "yaxis": "y3"
        },
        {
         "line": {
          "color": "#747474",
          "dash": "dash"
         },
         "mode": "lines",
         "showlegend": false,
         "type": "scatter",
         "x": [
          0,
          5
         ],
         "xaxis": "x3",
         "y": [
          0,
          5
         ],
         "yaxis": "y3"
        },
        {
         "hoverinfo": "text",
         "marker": {
          "color": "#398170",
          "size": 12
         },
         "mode": "markers",
         "showlegend": false,
         "text": "Opponent: Crystal Palace<br>xG For: 1.2<br>xG Against: 1.6",
         "type": "scatter",
         "x": [
          1.2
         ],
         "xaxis": "x4",
         "y": [
          1.6
         ],
         "yaxis": "y4"
        },
        {
         "hoverinfo": "text",
         "marker": {
          "color": "#398170",
          "size": 12
         },
         "mode": "markers",
         "showlegend": false,
         "text": "Opponent: Southampton<br>xG For: 1.5<br>xG Against: 2.8",
         "type": "scatter",
         "x": [
          1.5
         ],
         "xaxis": "x4",
         "y": [
          2.8
         ],
         "yaxis": "y4"
        },
        {
         "hoverinfo": "text",
         "marker": {
          "color": "#ED2461",
          "size": 12
         },
         "mode": "markers",
         "showlegend": false,
         "text": "Opponent: West Ham<br>xG For: 1.0<br>xG Against: 0.4",
         "type": "scatter",
         "x": [
          1
         ],
         "xaxis": "x4",
         "y": [
          0.4
         ],
         "yaxis": "y4"
        },
        {
         "hoverinfo": "text",
         "marker": {
          "color": "#398170",
          "size": 12
         },
         "mode": "markers",
         "showlegend": false,
         "text": "Opponent: Wolves<br>xG For: 1.0<br>xG Against: 4.2",
         "type": "scatter",
         "x": [
          1
         ],
         "xaxis": "x4",
         "y": [
          4.2
         ],
         "yaxis": "y4"
        },
        {
         "hoverinfo": "text",
         "marker": {
          "color": "#ED2461",
          "size": 12
         },
         "mode": "markers",
         "showlegend": false,
         "text": "Opponent: Liverpool<br>xG For: 0.5<br>xG Against: 2.5",
         "type": "scatter",
         "x": [
          2.5
         ],
         "xaxis": "x4",
         "y": [
          0.5
         ],
         "yaxis": "y4"
        },
        {
         "hoverinfo": "text",
         "marker": {
          "color": "#ED2461",
          "size": 12
         },
         "mode": "markers",
         "showlegend": false,
         "text": "Opponent: Manchester City<br>xG For: 1.0<br>xG Against: 2.1",
         "type": "scatter",
         "x": [
          2.1
         ],
         "xaxis": "x4",
         "y": [
          1
         ],
         "yaxis": "y4"
        },
        {
         "hoverinfo": "text",
         "marker": {
          "color": "#ED2461",
          "size": 12
         },
         "mode": "markers",
         "showlegend": false,
         "text": "Opponent: Manchester Utd<br>xG For: 0.9<br>xG Against: 1.3",
         "type": "scatter",
         "x": [
          1.3
         ],
         "xaxis": "x4",
         "y": [
          0.9
         ],
         "yaxis": "y4"
        },
        {
         "hoverinfo": "text",
         "marker": {
          "color": "#ED2461",
          "size": 12
         },
         "mode": "markers",
         "showlegend": false,
         "text": "Opponent: Tottenham<br>xG For: 0.8<br>xG Against: 3.5",
         "type": "scatter",
         "x": [
          3.5
         ],
         "xaxis": "x4",
         "y": [
          0.8
         ],
         "yaxis": "y4"
        },
        {
         "line": {
          "color": "#747474",
          "dash": "dash"
         },
         "mode": "lines",
         "showlegend": false,
         "type": "scatter",
         "x": [
          0,
          5
         ],
         "xaxis": "x4",
         "y": [
          0,
          5
         ],
         "yaxis": "y4"
        },
        {
         "hoverinfo": "text",
         "marker": {
          "color": "#398170",
          "size": 12
         },
         "mode": "markers",
         "showlegend": false,
         "text": "Opponent: Ipswich Town<br>xG For: 0.3<br>xG Against: 1.6",
         "type": "scatter",
         "x": [
          0.3
         ],
         "xaxis": "x5",
         "y": [
          1.6
         ],
         "yaxis": "y5"
        },
        {
         "hoverinfo": "text",
         "marker": {
          "color": "#398170",
          "size": 12
         },
         "mode": "markers",
         "showlegend": false,
         "text": "Opponent: Manchester Utd<br>xG For: 1.4<br>xG Against: 2.1",
         "type": "scatter",
         "x": [
          1.4
         ],
         "xaxis": "x5",
         "y": [
          2.1
         ],
         "yaxis": "y5"
        },
        {
         "hoverinfo": "text",
         "marker": {
          "color": "#ED2461",
          "size": 12
         },
         "mode": "markers",
         "showlegend": false,
         "text": "Opponent: Nott'ham Forest<br>xG For: 1.4<br>xG Against: 1.0",
         "type": "scatter",
         "x": [
          1.4
         ],
         "xaxis": "x5",
         "y": [
          1
         ],
         "yaxis": "y5"
        },
        {
         "hoverinfo": "text",
         "marker": {
          "color": "#398170",
          "size": 12
         },
         "mode": "markers",
         "showlegend": false,
         "text": "Opponent: Tottenham<br>xG For: 1.3<br>xG Against: 1.8",
         "type": "scatter",
         "x": [
          1.3
         ],
         "xaxis": "x5",
         "y": [
          1.8
         ],
         "yaxis": "y5"
        },
        {
         "hoverinfo": "text",
         "marker": {
          "color": "#ED2461",
          "size": 12
         },
         "mode": "markers",
         "showlegend": false,
         "text": "Opponent: Arsenal<br>xG For: 1.7<br>xG Against: 2.1",
         "type": "scatter",
         "x": [
          2.1
         ],
         "xaxis": "x5",
         "y": [
          1.7
         ],
         "yaxis": "y5"
        },
        {
         "hoverinfo": "text",
         "marker": {
          "color": "#ED2461",
          "size": 12
         },
         "mode": "markers",
         "showlegend": false,
         "text": "Opponent: Chelsea<br>xG For: 1.1<br>xG Against: 4.2",
         "type": "scatter",
         "x": [
          4.2
         ],
         "xaxis": "x5",
         "y": [
          1.1
         ],
         "yaxis": "y5"
        },
        {
         "hoverinfo": "text",
         "marker": {
          "color": "#398170",
          "size": 12
         },
         "mode": "markers",
         "showlegend": false,
         "text": "Opponent: Everton<br>xG For: 1.4<br>xG Against: 0.5",
         "type": "scatter",
         "x": [
          0.5
         ],
         "xaxis": "x5",
         "y": [
          1.4
         ],
         "yaxis": "y5"
        },
        {
         "hoverinfo": "text",
         "marker": {
          "color": "#ED2461",
          "size": 12
         },
         "mode": "markers",
         "showlegend": false,
         "text": "Opponent: Newcastle Utd<br>xG For: 1.1<br>xG Against: 2.0",
         "type": "scatter",
         "x": [
          2
         ],
         "xaxis": "x5",
         "y": [
          1.1
         ],
         "yaxis": "y5"
        },
        {
         "line": {
          "color": "#747474",
          "dash": "dash"
         },
         "mode": "lines",
         "showlegend": false,
         "type": "scatter",
         "x": [
          0,
          5
         ],
         "xaxis": "x5",
         "y": [
          0,
          5
         ],
         "yaxis": "y5"
        },
        {
         "hoverinfo": "text",
         "marker": {
          "color": "#398170",
          "size": 12
         },
         "mode": "markers",
         "showlegend": false,
         "text": "Opponent: Brighton<br>xG For: 1.1<br>xG Against: 4.2",
         "type": "scatter",
         "x": [
          1.1
         ],
         "xaxis": "x6",
         "y": [
          4.2
         ],
         "yaxis": "y6"
        },
        {
         "hoverinfo": "text",
         "marker": {
          "color": "#398170",
          "size": 12
         },
         "mode": "markers",
         "showlegend": false,
         "text": "Opponent: Crystal Palace<br>xG For: 0.5<br>xG Against: 2.4",
         "type": "scatter",
         "x": [
          0.5
         ],
         "xaxis": "x6",
         "y": [
          2.4
         ],
         "yaxis": "y6"
        },
        {
         "hoverinfo": "text",
         "marker": {
          "color": "#398170",
          "size": 12
         },
         "mode": "markers",
         "showlegend": false,
         "text": "Opponent: Manchester City<br>xG For: 0.8<br>xG Against: 1.0",
         "type": "scatter",
         "x": [
          0.8
         ],
         "xaxis": "x6",
         "y": [
          1
         ],
         "yaxis": "y6"
        },
        {
         "hoverinfo": "text",
         "marker": {
          "color": "#398170",
          "size": 12
         },
         "mode": "markers",
         "showlegend": false,
         "text": "Opponent: Nott'ham Forest<br>xG For: 0.9<br>xG Against: 2.3",
         "type": "scatter",
         "x": [
          0.9
         ],
         "xaxis": "x6",
         "y": [
          2.3
         ],
         "yaxis": "y6"
        },
        {
         "hoverinfo": "text",
         "marker": {
          "color": "#ED2461",
          "size": 12
         },
         "mode": "markers",
         "showlegend": false,
         "text": "Opponent: Bournemouth<br>xG For: 0.8<br>xG Against: 1.7",
         "type": "scatter",
         "x": [
          1.7
         ],
         "xaxis": "x6",
         "y": [
          0.8
         ],
         "yaxis": "y6"
        },
        {
         "hoverinfo": "text",
         "marker": {
          "color": "#ED2461",
          "size": 12
         },
         "mode": "markers",
         "showlegend": false,
         "text": "Opponent: Liverpool<br>xG For: 1.0<br>xG Against: 1.9",
         "type": "scatter",
         "x": [
          1.9
         ],
         "xaxis": "x6",
         "y": [
          1
         ],
         "yaxis": "y6"
        },
        {
         "hoverinfo": "text",
         "marker": {
          "color": "#398170",
          "size": 12
         },
         "mode": "markers",
         "showlegend": false,
         "text": "Opponent: West Ham<br>xG For: 2.2<br>xG Against: 0.9",
         "type": "scatter",
         "x": [
          0.9
         ],
         "xaxis": "x6",
         "y": [
          2.2
         ],
         "yaxis": "y6"
        },
        {
         "hoverinfo": "text",
         "marker": {
          "color": "#ED2461",
          "size": 12
         },
         "mode": "markers",
         "showlegend": false,
         "text": "Opponent: Wolves<br>xG For: 1.6<br>xG Against: 1.9",
         "type": "scatter",
         "x": [
          1.9
         ],
         "xaxis": "x6",
         "y": [
          1.6
         ],
         "yaxis": "y6"
        },
        {
         "line": {
          "color": "#747474",
          "dash": "dash"
         },
         "mode": "lines",
         "showlegend": false,
         "type": "scatter",
         "x": [
          0,
          5
         ],
         "xaxis": "x6",
         "y": [
          0,
          5
         ],
         "yaxis": "y6"
        },
        {
         "hoverinfo": "text",
         "marker": {
          "color": "#398170",
          "size": 12
         },
         "mode": "markers",
         "showlegend": false,
         "text": "Opponent: Leicester City<br>xG For: 1.2<br>xG Against: 2.5",
         "type": "scatter",
         "x": [
          1.2
         ],
         "xaxis": "x7",
         "y": [
          2.5
         ],
         "yaxis": "y7"
        },
        {
         "hoverinfo": "text",
         "marker": {
          "color": "#ED2461",
          "size": 12
         },
         "mode": "markers",
         "showlegend": false,
         "text": "Opponent: Liverpool<br>xG For: 1.4<br>xG Against: 0.6",
         "type": "scatter",
         "x": [
          1.4
         ],
         "xaxis": "x7",
         "y": [
          0.6
         ],
         "yaxis": "y7"
        },
        {
         "hoverinfo": "text",
         "marker": {
          "color": "#ED2461",
          "size": 12
         },
         "mode": "markers",
         "showlegend": false,
         "text": "Opponent: Manchester Utd<br>xG For: 1.6<br>xG Against: 1.0",
         "type": "scatter",
         "x": [
          1.6
         ],
         "xaxis": "x7",
         "y": [
          1
         ],
         "yaxis": "y7"
        },
        {
         "hoverinfo": "text",
         "marker": {
          "color": "#ED2461",
          "size": 12
         },
         "mode": "markers",
         "showlegend": false,
         "text": "Opponent: West Ham<br>xG For: 1.4<br>xG Against: 1.3",
         "type": "scatter",
         "x": [
          1.4
         ],
         "xaxis": "x7",
         "y": [
          1.3
         ],
         "yaxis": "y7"
        },
        {
         "hoverinfo": "text",
         "marker": {
          "color": "#ED2461",
          "size": 12
         },
         "mode": "markers",
         "showlegend": false,
         "text": "Opponent: Brentford<br>xG For: 1.2<br>xG Against: 1.6",
         "type": "scatter",
         "x": [
          1.6
         ],
         "xaxis": "x7",
         "y": [
          1.2
         ],
         "yaxis": "y7"
        },
        {
         "hoverinfo": "text",
         "marker": {
          "color": "#ED2461",
          "size": 12
         },
         "mode": "markers",
         "showlegend": false,
         "text": "Opponent: Chelsea<br>xG For: 0.5<br>xG Against: 2.4",
         "type": "scatter",
         "x": [
          2.4
         ],
         "xaxis": "x7",
         "y": [
          0.5
         ],
         "yaxis": "y7"
        },
        {
         "hoverinfo": "text",
         "marker": {
          "color": "#398170",
          "size": 12
         },
         "mode": "markers",
         "showlegend": false,
         "text": "Opponent: Everton<br>xG For: 0.9<br>xG Against: 0.9",
         "type": "scatter",
         "x": [
          0.9
         ],
         "xaxis": "x7",
         "y": [
          0.9
         ],
         "yaxis": "y7"
        },
        {
         "hoverinfo": "text",
         "marker": {
          "color": "#ED2461",
          "size": 12
         },
         "mode": "markers",
         "showlegend": false,
         "text": "Opponent: Nott'ham Forest<br>xG For: 1.0<br>xG Against: 1.7",
         "type": "scatter",
         "x": [
          1.7
         ],
         "xaxis": "x7",
         "y": [
          1
         ],
         "yaxis": "y7"
        },
        {
         "line": {
          "color": "#747474",
          "dash": "dash"
         },
         "mode": "lines",
         "showlegend": false,
         "type": "scatter",
         "x": [
          0,
          5
         ],
         "xaxis": "x7",
         "y": [
          0,
          5
         ],
         "yaxis": "y7"
        },
        {
         "hoverinfo": "text",
         "marker": {
          "color": "#ED2461",
          "size": 12
         },
         "mode": "markers",
         "showlegend": false,
         "text": "Opponent: Bournemouth<br>xG For: 2.4<br>xG Against: 1.8",
         "type": "scatter",
         "x": [
          2.4
         ],
         "xaxis": "x8",
         "y": [
          1.8
         ],
         "yaxis": "y8"
        },
        {
         "hoverinfo": "text",
         "marker": {
          "color": "#ED2461",
          "size": 12
         },
         "mode": "markers",
         "showlegend": false,
         "text": "Opponent: Brighton<br>xG For: 1.4<br>xG Against: 0.5",
         "type": "scatter",
         "x": [
          1.4
         ],
         "xaxis": "x8",
         "y": [
          0.5
         ],
         "yaxis": "y8"
        },
        {
         "hoverinfo": "text",
         "marker": {
          "color": "#398170",
          "size": 12
         },
         "mode": "markers",
         "showlegend": false,
         "text": "Opponent: Crystal Palace<br>xG For: 0.9<br>xG Against: 0.9",
         "type": "scatter",
         "x": [
          0.9
         ],
         "xaxis": "x8",
         "y": [
          0.9
         ],
         "yaxis": "y8"
        },
        {
         "hoverinfo": "text",
         "marker": {
          "color": "#ED2461",
          "size": 12
         },
         "mode": "markers",
         "showlegend": false,
         "text": "Opponent: Newcastle Utd<br>xG For: 2.1<br>xG Against: 0.7",
         "type": "scatter",
         "x": [
          2.1
         ],
         "xaxis": "x8",
         "y": [
          0.7
         ],
         "yaxis": "y8"
        },
        {
         "hoverinfo": "text",
         "marker": {
          "color": "#ED2461",
          "size": 12
         },
         "mode": "markers",
         "showlegend": false,
         "text": "Opponent: Aston Villa<br>xG For: 0.9<br>xG Against: 2.1",
         "type": "scatter",
         "x": [
          2.1
         ],
         "xaxis": "x8",
         "y": [
          0.9
         ],
         "yaxis": "y8"
        },
        {
         "hoverinfo": "text",
         "marker": {
          "color": "#398170",
          "size": 12
         },
         "mode": "markers",
         "showlegend": false,
         "text": "Opponent: Ipswich Town<br>xG For: 1.7<br>xG Against: 1.3",
         "type": "scatter",
         "x": [
          1.3
         ],
         "xaxis": "x8",
         "y": [
          1.7
         ],
         "yaxis": "y8"
        },
        {
         "hoverinfo": "text",
         "marker": {
          "color": "#398170",
          "size": 12
         },
         "mode": "markers",
         "showlegend": false,
         "text": "Opponent: Leicester City<br>xG For: 1.1<br>xG Against: 0.7",
         "type": "scatter",
         "x": [
          0.7
         ],
         "xaxis": "x8",
         "y": [
          1.1
         ],
         "yaxis": "y8"
        },
        {
         "hoverinfo": "text",
         "marker": {
          "color": "#ED2461",
          "size": 12
         },
         "mode": "markers",
         "showlegend": false,
         "text": "Opponent: Tottenham<br>xG For: 1.0<br>xG Against: 2.4",
         "type": "scatter",
         "x": [
          2.4
         ],
         "xaxis": "x8",
         "y": [
          1
         ],
         "yaxis": "y8"
        },
        {
         "line": {
          "color": "#747474",
          "dash": "dash"
         },
         "mode": "lines",
         "showlegend": false,
         "type": "scatter",
         "x": [
          0,
          5
         ],
         "xaxis": "x8",
         "y": [
          0,
          5
         ],
         "yaxis": "y8"
        },
        {
         "hoverinfo": "text",
         "marker": {
          "color": "#398170",
          "size": 12
         },
         "mode": "markers",
         "showlegend": false,
         "text": "Opponent: Aston Villa<br>xG For: 1.6<br>xG Against: 1.8",
         "type": "scatter",
         "x": [
          1.6
         ],
         "xaxis": "x9",
         "y": [
          1.8
         ],
         "yaxis": "y9"
        },
        {
         "hoverinfo": "text",
         "marker": {
          "color": "#398170",
          "size": 12
         },
         "mode": "markers",
         "showlegend": false,
         "text": "Opponent: Leicester City<br>xG For: 0.6<br>xG Against: 1.8",
         "type": "scatter",
         "x": [
          0.6
         ],
         "xaxis": "x9",
         "y": [
          1.8
         ],
         "yaxis": "y9"
        },
        {
         "hoverinfo": "text",
         "marker": {
          "color": "#398170",
          "size": 12
         },
         "mode": "markers",
         "showlegend": false,
         "text": "Opponent: Newcastle Utd<br>xG For: 1.5<br>xG Against: 2.2",
         "type": "scatter",
         "x": [
          1.5
         ],
         "xaxis": "x9",
         "y": [
          2.2
         ],
         "yaxis": "y9"
        },
        {
         "hoverinfo": "text",
         "marker": {
          "color": "#398170",
          "size": 12
         },
         "mode": "markers",
         "showlegend": false,
         "text": "Opponent: West Ham<br>xG For: 0.8<br>xG Against: 1.5",
         "type": "scatter",
         "x": [
          0.8
         ],
         "xaxis": "x9",
         "y": [
          1.5
         ],
         "yaxis": "y9"
        },
        {
         "hoverinfo": "text",
         "marker": {
          "color": "#398170",
          "size": 12
         },
         "mode": "markers",
         "showlegend": false,
         "text": "Opponent: Ipswich Town<br>xG For: 0.9<br>xG Against: 0.4",
         "type": "scatter",
         "x": [
          0.4
         ],
         "xaxis": "x9",
         "y": [
          0.9
         ],
         "yaxis": "y9"
        },
        {
         "hoverinfo": "text",
         "marker": {
          "color": "#398170",
          "size": 12
         },
         "mode": "markers",
         "showlegend": false,
         "text": "Opponent: Manchester City<br>xG For: 2.6<br>xG Against: 1.6",
         "type": "scatter",
         "x": [
          1.6
         ],
         "xaxis": "x9",
         "y": [
          2.6
         ],
         "yaxis": "y9"
        },
        {
         "hoverinfo": "text",
         "marker": {
          "color": "#ED2461",
          "size": 12
         },
         "mode": "markers",
         "showlegend": false,
         "text": "Opponent: Manchester Utd<br>xG For: 0.4<br>xG Against: 2.4",
         "type": "scatter",
         "x": [
          2.4
         ],
         "xaxis": "x9",
         "y": [
          0.4
         ],
         "yaxis": "y9"
        },
        {
         "hoverinfo": "text",
         "marker": {
          "color": "#398170",
          "size": 12
         },
         "mode": "markers",
         "showlegend": false,
         "text": "Opponent: Nott'ham Forest<br>xG For: 1.3<br>xG Against: 0.8",
         "type": "scatter",
         "x": [
          0.8
         ],
         "xaxis": "x9",
         "y": [
          1.3
         ],
         "yaxis": "y9"
        },
        {
         "line": {
          "color": "#747474",
          "dash": "dash"
         },
         "mode": "lines",
         "showlegend": false,
         "type": "scatter",
         "x": [
          0,
          5
         ],
         "xaxis": "x9",
         "y": [
          0,
          5
         ],
         "yaxis": "y9"
        },
        {
         "hoverinfo": "text",
         "marker": {
          "color": "#398170",
          "size": 12
         },
         "mode": "markers",
         "showlegend": false,
         "text": "Opponent: Aston Villa<br>xG For: 0.8<br>xG Against: 1.2",
         "type": "scatter",
         "x": [
          0.8
         ],
         "xaxis": "x10",
         "y": [
          1.2
         ],
         "yaxis": "y10"
        },
        {
         "hoverinfo": "text",
         "marker": {
          "color": "#ED2461",
          "size": 12
         },
         "mode": "markers",
         "showlegend": false,
         "text": "Opponent: Everton<br>xG For: 1.7<br>xG Against: 1.3",
         "type": "scatter",
         "x": [
          1.7
         ],
         "xaxis": "x10",
         "y": [
          1.3
         ],
         "yaxis": "y10"
        },
        {
         "hoverinfo": "text",
         "marker": {
          "color": "#ED2461",
          "size": 12
         },
         "mode": "markers",
         "showlegend": false,
         "text": "Opponent: Fulham<br>xG For: 0.9<br>xG Against: 0.4",
         "type": "scatter",
         "x": [
          0.9
         ],
         "xaxis": "x10",
         "y": [
          0.4
         ],
         "yaxis": "y10"
        },
        {
         "hoverinfo": "text",
         "marker": {
          "color": "#ED2461",
          "size": 12
         },
         "mode": "markers",
         "showlegend": false,
         "text": "Opponent: Liverpool<br>xG For: 2.6<br>xG Against: 0.5",
         "type": "scatter",
         "x": [
          2.6
         ],
         "xaxis": "x10",
         "y": [
          0.5
         ],
         "yaxis": "y10"
        },
        {
         "hoverinfo": "text",
         "marker": {
          "color": "#ED2461",
          "size": 12
         },
         "mode": "markers",
         "showlegend": false,
         "text": "Opponent: Brighton<br>xG For: 0.3<br>xG Against: 1.6",
         "type": "scatter",
         "x": [
          1.6
         ],
         "xaxis": "x10",
         "y": [
          0.3
         ],
         "yaxis": "y10"
        },
        {
         "hoverinfo": "text",
         "marker": {
          "color": "#ED2461",
          "size": 12
         },
         "mode": "markers",
         "showlegend": false,
         "text": "Opponent: Manchester City<br>xG For: 0.3<br>xG Against: 3.3",
         "type": "scatter",
         "x": [
          3.3
         ],
         "xaxis": "x10",
         "y": [
          0.3
         ],
         "yaxis": "y10"
        },
        {
         "hoverinfo": "text",
         "marker": {
          "color": "#ED2461",
          "size": 12
         },
         "mode": "markers",
         "showlegend": false,
         "text": "Opponent: Southampton<br>xG For: 1.6<br>xG Against: 2.4",
         "type": "scatter",
         "x": [
          2.4
         ],
         "xaxis": "x10",
         "y": [
          1.6
         ],
         "yaxis": "y10"
        },
        {
         "hoverinfo": "text",
         "marker": {
          "color": "#ED2461",
          "size": 12
         },
         "mode": "markers",
         "showlegend": false,
         "text": "Opponent: West Ham<br>xG For: 0.6<br>xG Against: 3.6",
         "type": "scatter",
         "x": [
          3.6
         ],
         "xaxis": "x10",
         "y": [
          0.6
         ],
         "yaxis": "y10"
        },
        {
         "line": {
          "color": "#747474",
          "dash": "dash"
         },
         "mode": "lines",
         "showlegend": false,
         "type": "scatter",
         "x": [
          0,
          5
         ],
         "xaxis": "x10",
         "y": [
          0,
          5
         ],
         "yaxis": "y10"
        },
        {
         "hoverinfo": "text",
         "marker": {
          "color": "#ED2461",
          "size": 12
         },
         "mode": "markers",
         "showlegend": false,
         "text": "Opponent: Aston Villa<br>xG For: 1.4<br>xG Against: 0.4",
         "type": "scatter",
         "x": [
          1.4
         ],
         "xaxis": "x11",
         "y": [
          0.4
         ],
         "yaxis": "y11"
        },
        {
         "hoverinfo": "text",
         "marker": {
          "color": "#ED2461",
          "size": 12
         },
         "mode": "markers",
         "showlegend": false,
         "text": "Opponent: Bournemouth<br>xG For: 2.1<br>xG Against: 0.8",
         "type": "scatter",
         "x": [
          2.1
         ],
         "xaxis": "x11",
         "y": [
          0.8
         ],
         "yaxis": "y11"
        },
        {
         "hoverinfo": "text",
         "marker": {
          "color": "#ED2461",
          "size": 12
         },
         "mode": "markers",
         "showlegend": false,
         "text": "Opponent: Everton<br>xG For: 1.1<br>xG Against: 0.7",
         "type": "scatter",
         "x": [
          1.1
         ],
         "xaxis": "x11",
         "y": [
          0.7
         ],
         "yaxis": "y11"
        },
        {
         "hoverinfo": "text",
         "marker": {
          "color": "#ED2461",
          "size": 12
         },
         "mode": "markers",
         "showlegend": false,
         "text": "Opponent: Tottenham<br>xG For: 1.2<br>xG Against: 1.0",
         "type": "scatter",
         "x": [
          1.2
         ],
         "xaxis": "x11",
         "y": [
          1
         ],
         "yaxis": "y11"
        },
        {
         "hoverinfo": "text",
         "marker": {
          "color": "#ED2461",
          "size": 12
         },
         "mode": "markers",
         "showlegend": false,
         "text": "Opponent: Arsenal<br>xG For: 0.3<br>xG Against: 4.4",
         "type": "scatter",
         "x": [
          4.4
         ],
         "xaxis": "x11",
         "y": [
          0.3
         ],
         "yaxis": "y11"
        },
        {
         "hoverinfo": "text",
         "marker": {
          "color": "#ED2461",
          "size": 12
         },
         "mode": "markers",
         "showlegend": false,
         "text": "Opponent: Crystal Palace<br>xG For: 1.2<br>xG Against: 2.5",
         "type": "scatter",
         "x": [
          2.5
         ],
         "xaxis": "x11",
         "y": [
          1.2
         ],
         "yaxis": "y11"
        },
        {
         "hoverinfo": "text",
         "marker": {
          "color": "#ED2461",
          "size": 12
         },
         "mode": "markers",
         "showlegend": false,
         "text": "Opponent: Fulham<br>xG For: 0.6<br>xG Against: 1.8",
         "type": "scatter",
         "x": [
          1.8
         ],
         "xaxis": "x11",
         "y": [
          0.6
         ],
         "yaxis": "y11"
        },
        {
         "hoverinfo": "text",
         "marker": {
          "color": "#398170",
          "size": 12
         },
         "mode": "markers",
         "showlegend": false,
         "text": "Opponent: Southampton<br>xG For: 3.1<br>xG Against: 2.1",
         "type": "scatter",
         "x": [
          2.1
         ],
         "xaxis": "x11",
         "y": [
          3.1
         ],
         "yaxis": "y11"
        },
        {
         "line": {
          "color": "#747474",
          "dash": "dash"
         },
         "mode": "lines",
         "showlegend": false,
         "type": "scatter",
         "x": [
          0,
          5
         ],
         "xaxis": "x11",
         "y": [
          0,
          5
         ],
         "yaxis": "y11"
        },
        {
         "hoverinfo": "text",
         "marker": {
          "color": "#398170",
          "size": 12
         },
         "mode": "markers",
         "showlegend": false,
         "text": "Opponent: Bournemouth<br>xG For: 1.1<br>xG Against: 2.0",
         "type": "scatter",
         "x": [
          1.1
         ],
         "xaxis": "x12",
         "y": [
          2
         ],
         "yaxis": "y12"
        },
        {
         "hoverinfo": "text",
         "marker": {
          "color": "#398170",
          "size": 12
         },
         "mode": "markers",
         "showlegend": false,
         "text": "Opponent: Brentford<br>xG For: 0.5<br>xG Against: 2.5",
         "type": "scatter",
         "x": [
          0.5
         ],
         "xaxis": "x12",
         "y": [
          2.5
         ],
         "yaxis": "y12"
        },
        {
         "hoverinfo": "text",
         "marker": {
          "color": "#398170",
          "size": 12
         },
         "mode": "markers",
         "showlegend": false,
         "text": "Opponent: Chelsea<br>xG For: 1.0<br>xG Against: 1.9",
         "type": "scatter",
         "x": [
          1
         ],
         "xaxis": "x12",
         "y": [
          1.9
         ],
         "yaxis": "y12"
        },
        {
         "hoverinfo": "text",
         "marker": {
          "color": "#398170",
          "size": 12
         },
         "mode": "markers",
         "showlegend": false,
         "text": "Opponent: Nott'ham Forest<br>xG For: 0.4<br>xG Against: 0.9",
         "type": "scatter",
         "x": [
          0.4
         ],
         "xaxis": "x12",
         "y": [
          0.9
         ],
         "yaxis": "y12"
        },
        {
         "hoverinfo": "text",
         "marker": {
          "color": "#398170",
          "size": 12
         },
         "mode": "markers",
         "showlegend": false,
         "text": "Opponent: Crystal Palace<br>xG For: 1.4<br>xG Against: 0.6",
         "type": "scatter",
         "x": [
          0.6
         ],
         "xaxis": "x12",
         "y": [
          1.4
         ],
         "yaxis": "y12"
        },
        {
         "hoverinfo": "text",
         "marker": {
          "color": "#398170",
          "size": 12
         },
         "mode": "markers",
         "showlegend": false,
         "text": "Opponent: Ipswich Town<br>xG For: 2.6<br>xG Against: 0.5",
         "type": "scatter",
         "x": [
          0.5
         ],
         "xaxis": "x12",
         "y": [
          2.6
         ],
         "yaxis": "y12"
        },
        {
         "hoverinfo": "text",
         "marker": {
          "color": "#398170",
          "size": 12
         },
         "mode": "markers",
         "showlegend": false,
         "text": "Opponent: Manchester Utd<br>xG For: 1.8<br>xG Against: 1.4",
         "type": "scatter",
         "x": [
          1.4
         ],
         "xaxis": "x12",
         "y": [
          1.8
         ],
         "yaxis": "y12"
        },
        {
         "hoverinfo": "text",
         "marker": {
          "color": "#398170",
          "size": 12
         },
         "mode": "markers",
         "showlegend": false,
         "text": "Opponent: Wolves<br>xG For: 2.5<br>xG Against: 0.6",
         "type": "scatter",
         "x": [
          0.6
         ],
         "xaxis": "x12",
         "y": [
          2.5
         ],
         "yaxis": "y12"
        },
        {
         "line": {
          "color": "#747474",
          "dash": "dash"
         },
         "mode": "lines",
         "showlegend": false,
         "type": "scatter",
         "x": [
          0,
          5
         ],
         "xaxis": "x12",
         "y": [
          0,
          5
         ],
         "yaxis": "y12"
        },
        {
         "hoverinfo": "text",
         "marker": {
          "color": "#398170",
          "size": 12
         },
         "mode": "markers",
         "showlegend": false,
         "text": "Opponent: Arsenal<br>xG For: 0.7<br>xG Against: 2.1",
         "type": "scatter",
         "x": [
          0.7
         ],
         "xaxis": "x13",
         "y": [
          2.1
         ],
         "yaxis": "y13"
        },
        {
         "hoverinfo": "text",
         "marker": {
          "color": "#398170",
          "size": 12
         },
         "mode": "markers",
         "showlegend": false,
         "text": "Opponent: Brentford<br>xG For: 1.0<br>xG Against: 2.1",
         "type": "scatter",
         "x": [
          1
         ],
         "xaxis": "x13",
         "y": [
          2.1
         ],
         "yaxis": "y13"
        },
        {
         "hoverinfo": "text",
         "marker": {
          "color": "#ED2461",
          "size": 12
         },
         "mode": "markers",
         "showlegend": false,
         "text": "Opponent: Fulham<br>xG For: 2.6<br>xG Against: 1.6",
         "type": "scatter",
         "x": [
          2.6
         ],
         "xaxis": "x13",
         "y": [
          1.6
         ],
         "yaxis": "y13"
        },
        {
         "hoverinfo": "text",
         "marker": {
          "color": "#398170",
          "size": 12
         },
         "mode": "markers",
         "showlegend": false,
         "text": "Opponent: Ipswich Town<br>xG For: 0.3<br>xG Against: 3.3",
         "type": "scatter",
         "x": [
          0.3
         ],
         "xaxis": "x13",
         "y": [
          3.3
         ],
         "yaxis": "y13"
        },
        {
         "hoverinfo": "text",
         "marker": {
          "color": "#ED2461",
          "size": 12
         },
         "mode": "markers",
         "showlegend": false,
         "text": "Opponent: Chelsea<br>xG For: 0.8<br>xG Against: 1.0",
         "type": "scatter",
         "x": [
          1
         ],
         "xaxis": "x13",
         "y": [
          0.8
         ],
         "yaxis": "y13"
        },
        {
         "hoverinfo": "text",
         "marker": {
          "color": "#ED2461",
          "size": 12
         },
         "mode": "markers",
         "showlegend": false,
         "text": "Opponent: Newcastle Utd<br>xG For: 0.9<br>xG Against: 1.6",
         "type": "scatter",
         "x": [
          1.6
         ],
         "xaxis": "x13",
         "y": [
          0.9
         ],
         "yaxis": "y13"
        },
        {
         "hoverinfo": "text",
         "marker": {
          "color": "#398170",
          "size": 12
         },
         "mode": "markers",
         "showlegend": false,
         "text": "Opponent: West Ham<br>xG For: 3.0<br>xG Against: 0.7",
         "type": "scatter",
         "x": [
          0.7
         ],
         "xaxis": "x13",
         "y": [
          3
         ],
         "yaxis": "y13"
        },
        {
         "hoverinfo": "text",
         "marker": {
          "color": "#398170",
          "size": 12
         },
         "mode": "markers",
         "showlegend": false,
         "text": "Opponent: Wolves<br>xG For: 1.6<br>xG Against: 0.8",
         "type": "scatter",
         "x": [
          0.8
         ],
         "xaxis": "x13",
         "y": [
          1.6
         ],
         "yaxis": "y13"
        },
        {
         "line": {
          "color": "#747474",
          "dash": "dash"
         },
         "mode": "lines",
         "showlegend": false,
         "type": "scatter",
         "x": [
          0,
          5
         ],
         "xaxis": "x13",
         "y": [
          0,
          5
         ],
         "yaxis": "y13"
        },
        {
         "hoverinfo": "text",
         "marker": {
          "color": "#398170",
          "size": 12
         },
         "mode": "markers",
         "showlegend": false,
         "text": "Opponent: Brentford<br>xG For: 0.9<br>xG Against: 1.3",
         "type": "scatter",
         "x": [
          0.9
         ],
         "xaxis": "x14",
         "y": [
          1.3
         ],
         "yaxis": "y14"
        },
        {
         "hoverinfo": "text",
         "marker": {
          "color": "#398170",
          "size": 12
         },
         "mode": "markers",
         "showlegend": false,
         "text": "Opponent: Fulham<br>xG For: 0.4<br>xG Against: 2.4",
         "type": "scatter",
         "x": [
          0.4
         ],
         "xaxis": "x14",
         "y": [
          2.4
         ],
         "yaxis": "y14"
        },
        {
         "hoverinfo": "text",
         "marker": {
          "color": "#ED2461",
          "size": 12
         },
         "mode": "markers",
         "showlegend": false,
         "text": "Opponent: Liverpool<br>xG For: 1.8<br>xG Against: 1.4",
         "type": "scatter",
         "x": [
          1.8
         ],
         "xaxis": "x14",
         "y": [
          1.4
         ],
         "yaxis": "y14"
        },
        {
         "hoverinfo": "text",
         "marker": {
          "color": "#ED2461",
          "size": 12
         },
         "mode": "markers",
         "showlegend": false,
         "text": "Opponent: Tottenham<br>xG For: 4.4<br>xG Against: 1.0",
         "type": "scatter",
         "x": [
          4.4
         ],
         "xaxis": "x14",
         "y": [
          1
         ],
         "yaxis": "y14"
        },
        {
         "hoverinfo": "text",
         "marker": {
          "color": "#398170",
          "size": 12
         },
         "mode": "markers",
         "showlegend": false,
         "text": "Opponent: Aston Villa<br>xG For: 0.6<br>xG Against: 0.5",
         "type": "scatter",
         "x": [
          0.5
         ],
         "xaxis": "x14",
         "y": [
          0.6
         ],
         "yaxis": "y14"
        },
        {
         "hoverinfo": "text",
         "marker": {
          "color": "#ED2461",
          "size": 12
         },
         "mode": "markers",
         "showlegend": false,
         "text": "Opponent: Brighton<br>xG For: 1.4<br>xG Against: 2.1",
         "type": "scatter",
         "x": [
          2.1
         ],
         "xaxis": "x14",
         "y": [
          1.4
         ],
         "yaxis": "y14"
        },
        {
         "hoverinfo": "text",
         "marker": {
          "color": "#398170",
          "size": 12
         },
         "mode": "markers",
         "showlegend": false,
         "text": "Opponent: Crystal Palace<br>xG For: 1.6<br>xG Against: 1.0",
         "type": "scatter",
         "x": [
          1
         ],
         "xaxis": "x14",
         "y": [
          1.6
         ],
         "yaxis": "y14"
        },
        {
         "hoverinfo": "text",
         "marker": {
          "color": "#398170",
          "size": 12
         },
         "mode": "markers",
         "showlegend": false,
         "text": "Opponent: Southampton<br>xG For: 2.6<br>xG Against: 1.1",
         "type": "scatter",
         "x": [
          1.1
         ],
         "xaxis": "x14",
         "y": [
          2.6
         ],
         "yaxis": "y14"
        },
        {
         "line": {
          "color": "#747474",
          "dash": "dash"
         },
         "mode": "lines",
         "showlegend": false,
         "type": "scatter",
         "x": [
          0,
          5
         ],
         "xaxis": "x14",
         "y": [
          0,
          5
         ],
         "yaxis": "y14"
        },
        {
         "hoverinfo": "text",
         "marker": {
          "color": "#398170",
          "size": 12
         },
         "mode": "markers",
         "showlegend": false,
         "text": "Opponent: Brighton<br>xG For: 1.1<br>xG Against: 2.0",
         "type": "scatter",
         "x": [
          1.1
         ],
         "xaxis": "x15",
         "y": [
          2
         ],
         "yaxis": "y15"
        },
        {
         "hoverinfo": "text",
         "marker": {
          "color": "#398170",
          "size": 12
         },
         "mode": "markers",
         "showlegend": false,
         "text": "Opponent: Manchester City<br>xG For: 0.9<br>xG Against: 1.6",
         "type": "scatter",
         "x": [
          0.9
         ],
         "xaxis": "x15",
         "y": [
          1.6
         ],
         "yaxis": "y15"
        },
        {
         "hoverinfo": "text",
         "marker": {
          "color": "#ED2461",
          "size": 12
         },
         "mode": "markers",
         "showlegend": false,
         "text": "Opponent: Southampton<br>xG For: 1.8<br>xG Against: 0.3",
         "type": "scatter",
         "x": [
          1.8
         ],
         "xaxis": "x15",
         "y": [
          0.3
         ],
         "yaxis": "y15"
        },
        {
         "hoverinfo": "text",
         "marker": {
          "color": "#398170",
          "size": 12
         },
         "mode": "markers",
         "showlegend": false,
         "text": "Opponent: Tottenham<br>xG For: 1.2<br>xG Against: 1.8",
         "type": "scatter",
         "x": [
          1.2
         ],
         "xaxis": "x15",
         "y": [
          1.8
         ],
         "yaxis": "y15"
        },
        {
         "hoverinfo": "text",
         "marker": {
          "color": "#ED2461",
          "size": 12
         },
         "mode": "markers",
         "showlegend": false,
         "text": "Opponent: Bournemouth<br>xG For: 1.6<br>xG Against: 2.2",
         "type": "scatter",
         "x": [
          2.2
         ],
         "xaxis": "x15",
         "y": [
          1.6
         ],
         "yaxis": "y15"
        },
        {
         "hoverinfo": "text",
         "marker": {
          "color": "#398170",
          "size": 12
         },
         "mode": "markers",
         "showlegend": false,
         "text": "Opponent: Everton<br>xG For: 2.1<br>xG Against: 0.7",
         "type": "scatter",
         "x": [
          0.7
         ],
         "xaxis": "x15",
         "y": [
          2.1
         ],
         "yaxis": "y15"
        },
        {
         "hoverinfo": "text",
         "marker": {
          "color": "#ED2461",
          "size": 12
         },
         "mode": "markers",
         "showlegend": false,
         "text": "Opponent: Fulham<br>xG For: 1.5<br>xG Against: 2.2",
         "type": "scatter",
         "x": [
          2.2
         ],
         "xaxis": "x15",
         "y": [
          1.5
         ],
         "yaxis": "y15"
        },
        {
         "hoverinfo": "text",
         "marker": {
          "color": "#398170",
          "size": 12
         },
         "mode": "markers",
         "showlegend": false,
         "text": "Opponent: Wolves<br>xG For: 1.5<br>xG Against: 1.2",
         "type": "scatter",
         "x": [
          1.2
         ],
         "xaxis": "x15",
         "y": [
          1.5
         ],
         "yaxis": "y15"
        },
        {
         "line": {
          "color": "#747474",
          "dash": "dash"
         },
         "mode": "lines",
         "showlegend": false,
         "type": "scatter",
         "x": [
          0,
          5
         ],
         "xaxis": "x15",
         "y": [
          0,
          5
         ],
         "yaxis": "y15"
        },
        {
         "hoverinfo": "text",
         "marker": {
          "color": "#398170",
          "size": 12
         },
         "mode": "markers",
         "showlegend": false,
         "text": "Opponent: Bournemouth<br>xG For: 1.2<br>xG Against: 1.3",
         "type": "scatter",
         "x": [
          1.2
         ],
         "xaxis": "x16",
         "y": [
          1.3
         ],
         "yaxis": "y16"
        },
        {
         "hoverinfo": "text",
         "marker": {
          "color": "#398170",
          "size": 12
         },
         "mode": "markers",
         "showlegend": false,
         "text": "Opponent: Crystal Palace<br>xG For: 1.0<br>xG Against: 1.7",
         "type": "scatter",
         "x": [
          1
         ],
         "xaxis": "x16",
         "y": [
          1.7
         ],
         "yaxis": "y16"
        },
        {
         "hoverinfo": "text",
         "marker": {
          "color": "#ED2461",
          "size": 12
         },
         "mode": "markers",
         "showlegend": false,
         "text": "Opponent: Fulham<br>xG For: 1.3<br>xG Against: 0.8",
         "type": "scatter",
         "x": [
          1.3
         ],
         "xaxis": "x16",
         "y": [
          0.8
         ],
         "yaxis": "y16"
        },
        {
         "hoverinfo": "text",
         "marker": {
          "color": "#398170",
          "size": 12
         },
         "mode": "markers",
         "showlegend": false,
         "text": "Opponent: Wolves<br>xG For: 0.7<br>xG Against: 1.0",
         "type": "scatter",
         "x": [
          0.7
         ],
         "xaxis": "x16",
         "y": [
          1
         ],
         "yaxis": "y16"
        },
        {
         "hoverinfo": "text",
         "marker": {
          "color": "#398170",
          "size": 12
         },
         "mode": "markers",
         "showlegend": false,
         "text": "Opponent: Brighton<br>xG For: 1.4<br>xG Against: 1.0",
         "type": "scatter",
         "x": [
          1
         ],
         "xaxis": "x16",
         "y": [
          1.4
         ],
         "yaxis": "y16"
        },
        {
         "hoverinfo": "text",
         "marker": {
          "color": "#ED2461",
          "size": 12
         },
         "mode": "markers",
         "showlegend": false,
         "text": "Opponent: Chelsea<br>xG For: 0.9<br>xG Against: 2.3",
         "type": "scatter",
         "x": [
          2.3
         ],
         "xaxis": "x16",
         "y": [
          0.9
         ],
         "yaxis": "y16"
        },
        {
         "hoverinfo": "text",
         "marker": {
          "color": "#ED2461",
          "size": 12
         },
         "mode": "markers",
         "showlegend": false,
         "text": "Opponent: Liverpool<br>xG For: 0.4<br>xG Against: 0.9",
         "type": "scatter",
         "x": [
          0.9
         ],
         "xaxis": "x16",
         "y": [
          0.4
         ],
         "yaxis": "y16"
        },
        {
         "hoverinfo": "text",
         "marker": {
          "color": "#398170",
          "size": 12
         },
         "mode": "markers",
         "showlegend": false,
         "text": "Opponent: Southampton<br>xG For: 2.2<br>xG Against: 0.1",
         "type": "scatter",
         "x": [
          0.1
         ],
         "xaxis": "x16",
         "y": [
          2.2
         ],
         "yaxis": "y16"
        },
        {
         "line": {
          "color": "#747474",
          "dash": "dash"
         },
         "mode": "lines",
         "showlegend": false,
         "type": "scatter",
         "x": [
          0,
          5
         ],
         "xaxis": "x16",
         "y": [
          0,
          5
         ],
         "yaxis": "y16"
        },
        {
         "hoverinfo": "text",
         "marker": {
          "color": "#398170",
          "size": 12
         },
         "mode": "markers",
         "showlegend": false,
         "text": "Opponent: Ipswich Town<br>xG For: 1.6<br>xG Against: 2.4",
         "type": "scatter",
         "x": [
          1.6
         ],
         "xaxis": "x17",
         "y": [
          2.4
         ],
         "yaxis": "y17"
        },
        {
         "hoverinfo": "text",
         "marker": {
          "color": "#ED2461",
          "size": 12
         },
         "mode": "markers",
         "showlegend": false,
         "text": "Opponent: Leicester City<br>xG For: 3.1<br>xG Against: 2.1",
         "type": "scatter",
         "x": [
          3.1
         ],
         "xaxis": "x17",
         "y": [
          2.1
         ],
         "yaxis": "y17"
        },
        {
         "hoverinfo": "text",
         "marker": {
          "color": "#ED2461",
          "size": 12
         },
         "mode": "markers",
         "showlegend": false,
         "text": "Opponent: Manchester Utd<br>xG For: 2.6<br>xG Against: 1.1",
         "type": "scatter",
         "x": [
          2.6
         ],
         "xaxis": "x17",
         "y": [
          1.1
         ],
         "yaxis": "y17"
        },
        {
         "hoverinfo": "text",
         "marker": {
          "color": "#ED2461",
          "size": 12
         },
         "mode": "markers",
         "showlegend": false,
         "text": "Opponent: Nott'ham Forest<br>xG For: 2.2<br>xG Against: 0.1",
         "type": "scatter",
         "x": [
          2.2
         ],
         "xaxis": "x17",
         "y": [
          0.1
         ],
         "yaxis": "y17"
        },
        {
         "hoverinfo": "text",
         "marker": {
          "color": "#ED2461",
          "size": 12
         },
         "mode": "markers",
         "showlegend": false,
         "text": "Opponent: Arsenal<br>xG For: 0.6<br>xG Against: 2.8",
         "type": "scatter",
         "x": [
          2.8
         ],
         "xaxis": "x17",
         "y": [
          0.6
         ],
         "yaxis": "y17"
        },
        {
         "hoverinfo": "text",
         "marker": {
          "color": "#ED2461",
          "size": 12
         },
         "mode": "markers",
         "showlegend": false,
         "text": "Opponent: Bournemouth<br>xG For: 0.6<br>xG Against: 1.3",
         "type": "scatter",
         "x": [
          1.3
         ],
         "xaxis": "x17",
         "y": [
          0.6
         ],
         "yaxis": "y17"
        },
        {
         "hoverinfo": "text",
         "marker": {
          "color": "#ED2461",
          "size": 12
         },
         "mode": "markers",
         "showlegend": false,
         "text": "Opponent: Brentford<br>xG For: 1.5<br>xG Against: 2.8",
         "type": "scatter",
         "x": [
          2.8
         ],
         "xaxis": "x17",
         "y": [
          1.5
         ],
         "yaxis": "y17"
        },
        {
         "hoverinfo": "text",
         "marker": {
          "color": "#398170",
          "size": 12
         },
         "mode": "markers",
         "showlegend": false,
         "text": "Opponent: Newcastle Utd<br>xG For: 1.8<br>xG Against: 0.3",
         "type": "scatter",
         "x": [
          0.3
         ],
         "xaxis": "x17",
         "y": [
          1.8
         ],
         "yaxis": "y17"
        },
        {
         "line": {
          "color": "#747474",
          "dash": "dash"
         },
         "mode": "lines",
         "showlegend": false,
         "type": "scatter",
         "x": [
          0,
          5
         ],
         "xaxis": "x17",
         "y": [
          0,
          5
         ],
         "yaxis": "y17"
        },
        {
         "hoverinfo": "text",
         "marker": {
          "color": "#398170",
          "size": 12
         },
         "mode": "markers",
         "showlegend": false,
         "text": "Opponent: Arsenal<br>xG For: 0.7<br>xG Against: 0.7",
         "type": "scatter",
         "x": [
          0.7
         ],
         "xaxis": "x18",
         "y": [
          0.7
         ],
         "yaxis": "y18"
        },
        {
         "hoverinfo": "text",
         "marker": {
          "color": "#398170",
          "size": 12
         },
         "mode": "markers",
         "showlegend": false,
         "text": "Opponent: Brentford<br>xG For: 0.8<br>xG Against: 3.5",
         "type": "scatter",
         "x": [
          0.8
         ],
         "xaxis": "x18",
         "y": [
          3.5
         ],
         "yaxis": "y18"
        },
        {
         "hoverinfo": "text",
         "marker": {
          "color": "#398170",
          "size": 12
         },
         "mode": "markers",
         "showlegend": false,
         "text": "Opponent: Everton<br>xG For: 1.0<br>xG Against: 2.4",
         "type": "scatter",
         "x": [
          1
         ],
         "xaxis": "x18",
         "y": [
          2.4
         ],
         "yaxis": "y18"
        },
        {
         "hoverinfo": "text",
         "marker": {
          "color": "#398170",
          "size": 12
         },
         "mode": "markers",
         "showlegend": false,
         "text": "Opponent: West Ham<br>xG For: 0.8<br>xG Against: 1.9",
         "type": "scatter",
         "x": [
          0.8
         ],
         "xaxis": "x18",
         "y": [
          1.9
         ],
         "yaxis": "y18"
        },
        {
         "hoverinfo": "text",
         "marker": {
          "color": "#ED2461",
          "size": 12
         },
         "mode": "markers",
         "showlegend": false,
         "text": "Opponent: Brighton<br>xG For: 1.3<br>xG Against: 1.8",
         "type": "scatter",
         "x": [
          1.8
         ],
         "xaxis": "x18",
         "y": [
          1.3
         ],
         "yaxis": "y18"
        },
        {
         "hoverinfo": "text",
         "marker": {
          "color": "#398170",
          "size": 12
         },
         "mode": "markers",
         "showlegend": false,
         "text": "Opponent: Leicester City<br>xG For: 1.2<br>xG Against: 1.0",
         "type": "scatter",
         "x": [
          1
         ],
         "xaxis": "x18",
         "y": [
          1.2
         ],
         "yaxis": "y18"
        },
        {
         "hoverinfo": "text",
         "marker": {
          "color": "#398170",
          "size": 12
         },
         "mode": "markers",
         "showlegend": false,
         "text": "Opponent: Manchester Utd<br>xG For: 4.4<br>xG Against: 1.0",
         "type": "scatter",
         "x": [
          1
         ],
         "xaxis": "x18",
         "y": [
          4.4
         ],
         "yaxis": "y18"
        },
        {
         "hoverinfo": "text",
         "marker": {
          "color": "#ED2461",
          "size": 12
         },
         "mode": "markers",
         "showlegend": false,
         "text": "Opponent: Newcastle Utd<br>xG For: 1.2<br>xG Against: 1.8",
         "type": "scatter",
         "x": [
          1.8
         ],
         "xaxis": "x18",
         "y": [
          1.2
         ],
         "yaxis": "y18"
        },
        {
         "line": {
          "color": "#747474",
          "dash": "dash"
         },
         "mode": "lines",
         "showlegend": false,
         "type": "scatter",
         "x": [
          0,
          5
         ],
         "xaxis": "x18",
         "y": [
          0,
          5
         ],
         "yaxis": "y18"
        },
        {
         "hoverinfo": "text",
         "marker": {
          "color": "#398170",
          "size": 12
         },
         "mode": "markers",
         "showlegend": false,
         "text": "Opponent: Aston Villa<br>xG For: 2.0<br>xG Against: 2.3",
         "type": "scatter",
         "x": [
          2
         ],
         "xaxis": "x19",
         "y": [
          2.3
         ],
         "yaxis": "y19"
        },
        {
         "hoverinfo": "text",
         "marker": {
          "color": "#ED2461",
          "size": 12
         },
         "mode": "markers",
         "showlegend": false,
         "text": "Opponent: Chelsea<br>xG For: 2.2<br>xG Against: 0.9",
         "type": "scatter",
         "x": [
          2.2
         ],
         "xaxis": "x19",
         "y": [
          0.9
         ],
         "yaxis": "y19"
        },
        {
         "hoverinfo": "text",
         "marker": {
          "color": "#398170",
          "size": 12
         },
         "mode": "markers",
         "showlegend": false,
         "text": "Opponent: Ipswich Town<br>xG For: 0.6<br>xG Against: 3.6",
         "type": "scatter",
         "x": [
          0.6
         ],
         "xaxis": "x19",
         "y": [
          3.6
         ],
         "yaxis": "y19"
        },
        {
         "hoverinfo": "text",
         "marker": {
          "color": "#ED2461",
          "size": 12
         },
         "mode": "markers",
         "showlegend": false,
         "text": "Opponent: Manchester City<br>xG For: 3.0<br>xG Against: 0.7",
         "type": "scatter",
         "x": [
          3
         ],
         "xaxis": "x19",
         "y": [
          0.7
         ],
         "yaxis": "y19"
        },
        {
         "hoverinfo": "text",
         "marker": {
          "color": "#398170",
          "size": 12
         },
         "mode": "markers",
         "showlegend": false,
         "text": "Opponent: Brentford<br>xG For: 1.0<br>xG Against: 0.4",
         "type": "scatter",
         "x": [
          0.4
         ],
         "xaxis": "x19",
         "y": [
          1
         ],
         "yaxis": "y19"
        },
        {
         "hoverinfo": "text",
         "marker": {
          "color": "#398170",
          "size": 12
         },
         "mode": "markers",
         "showlegend": false,
         "text": "Opponent: Crystal Palace<br>xG For: 1.4<br>xG Against: 1.3",
         "type": "scatter",
         "x": [
          1.3
         ],
         "xaxis": "x19",
         "y": [
          1.4
         ],
         "yaxis": "y19"
        },
        {
         "hoverinfo": "text",
         "marker": {
          "color": "#ED2461",
          "size": 12
         },
         "mode": "markers",
         "showlegend": false,
         "text": "Opponent: Fulham<br>xG For: 0.8<br>xG Against: 1.5",
         "type": "scatter",
         "x": [
          1.5
         ],
         "xaxis": "x19",
         "y": [
          0.8
         ],
         "yaxis": "y19"
        },
        {
         "hoverinfo": "text",
         "marker": {
          "color": "#ED2461",
          "size": 12
         },
         "mode": "markers",
         "showlegend": false,
         "text": "Opponent: Tottenham<br>xG For: 0.8<br>xG Against: 1.9",
         "type": "scatter",
         "x": [
          1.9
         ],
         "xaxis": "x19",
         "y": [
          0.8
         ],
         "yaxis": "y19"
        },
        {
         "line": {
          "color": "#747474",
          "dash": "dash"
         },
         "mode": "lines",
         "showlegend": false,
         "type": "scatter",
         "x": [
          0,
          5
         ],
         "xaxis": "x19",
         "y": [
          0,
          5
         ],
         "yaxis": "y19"
        },
        {
         "hoverinfo": "text",
         "marker": {
          "color": "#398170",
          "size": 12
         },
         "mode": "markers",
         "showlegend": false,
         "text": "Opponent: Chelsea<br>xG For: 1.6<br>xG Against: 1.9",
         "type": "scatter",
         "x": [
          1.6
         ],
         "xaxis": "x20",
         "y": [
          1.9
         ],
         "yaxis": "y20"
        },
        {
         "hoverinfo": "text",
         "marker": {
          "color": "#ED2461",
          "size": 12
         },
         "mode": "markers",
         "showlegend": false,
         "text": "Opponent: Liverpool<br>xG For: 2.5<br>xG Against: 0.6",
         "type": "scatter",
         "x": [
          2.5
         ],
         "xaxis": "x20",
         "y": [
          0.6
         ],
         "yaxis": "y20"
        },
        {
         "hoverinfo": "text",
         "marker": {
          "color": "#ED2461",
          "size": 12
         },
         "mode": "markers",
         "showlegend": false,
         "text": "Opponent: Manchester City<br>xG For: 1.6<br>xG Against: 0.8",
         "type": "scatter",
         "x": [
          1.6
         ],
         "xaxis": "x20",
         "y": [
          0.8
         ],
         "yaxis": "y20"
        },
        {
         "hoverinfo": "text",
         "marker": {
          "color": "#ED2461",
          "size": 12
         },
         "mode": "markers",
         "showlegend": false,
         "text": "Opponent: Newcastle Utd<br>xG For: 1.5<br>xG Against: 1.2",
         "type": "scatter",
         "x": [
          1.5
         ],
         "xaxis": "x20",
         "y": [
          1.2
         ],
         "yaxis": "y20"
        },
        {
         "hoverinfo": "text",
         "marker": {
          "color": "#ED2461",
          "size": 12
         },
         "mode": "markers",
         "showlegend": false,
         "text": "Opponent: Arsenal<br>xG For: 0.5<br>xG Against: 1.2",
         "type": "scatter",
         "x": [
          1.2
         ],
         "xaxis": "x20",
         "y": [
          0.5
         ],
         "yaxis": "y20"
        },
        {
         "hoverinfo": "text",
         "marker": {
          "color": "#ED2461",
          "size": 12
         },
         "mode": "markers",
         "showlegend": false,
         "text": "Opponent: Aston Villa<br>xG For: 0.5<br>xG Against: 1.7",
         "type": "scatter",
         "x": [
          1.7
         ],
         "xaxis": "x20",
         "y": [
          0.5
         ],
         "yaxis": "y20"
        },
        {
         "hoverinfo": "text",
         "marker": {
          "color": "#ED2461",
          "size": 12
         },
         "mode": "markers",
         "showlegend": false,
         "text": "Opponent: Brentford<br>xG For: 1.0<br>xG Against: 4.2",
         "type": "scatter",
         "x": [
          4.2
         ],
         "xaxis": "x20",
         "y": [
          1
         ],
         "yaxis": "y20"
        },
        {
         "hoverinfo": "text",
         "marker": {
          "color": "#ED2461",
          "size": 12
         },
         "mode": "markers",
         "showlegend": false,
         "text": "Opponent: Nott'ham Forest<br>xG For: 0.7<br>xG Against: 1.0",
         "type": "scatter",
         "x": [
          1
         ],
         "xaxis": "x20",
         "y": [
          0.7
         ],
         "yaxis": "y20"
        },
        {
         "line": {
          "color": "#747474",
          "dash": "dash"
         },
         "mode": "lines",
         "showlegend": false,
         "type": "scatter",
         "x": [
          0,
          5
         ],
         "xaxis": "x20",
         "y": [
          0,
          5
         ],
         "yaxis": "y20"
        }
       ],
       "layout": {
        "annotations": [
         {
          "font": {
           "size": 16
          },
          "showarrow": false,
          "text": "Arsenal",
          "x": 0.08,
          "xanchor": "center",
          "xref": "paper",
          "y": 1,
          "yanchor": "bottom",
          "yref": "paper"
         },
         {
          "font": {
           "size": 16
          },
          "showarrow": false,
          "text": "Aston Villa",
          "x": 0.29000000000000004,
          "xanchor": "center",
          "xref": "paper",
          "y": 1,
          "yanchor": "bottom",
          "yref": "paper"
         },
         {
          "font": {
           "size": 16
          },
          "showarrow": false,
          "text": "Bournemouth",
          "x": 0.5,
          "xanchor": "center",
          "xref": "paper",
          "y": 1,
          "yanchor": "bottom",
          "yref": "paper"
         },
         {
          "font": {
           "size": 16
          },
          "showarrow": false,
          "text": "Brentford",
          "x": 0.71,
          "xanchor": "center",
          "xref": "paper",
          "y": 1,
          "yanchor": "bottom",
          "yref": "paper"
         },
         {
          "font": {
           "size": 16
          },
          "showarrow": false,
          "text": "Brighton",
          "x": 0.92,
          "xanchor": "center",
          "xref": "paper",
          "y": 1,
          "yanchor": "bottom",
          "yref": "paper"
         },
         {
          "font": {
           "size": 16
          },
          "showarrow": false,
          "text": "Chelsea",
          "x": 0.08,
          "xanchor": "center",
          "xref": "paper",
          "y": 0.7250000000000001,
          "yanchor": "bottom",
          "yref": "paper"
         },
         {
          "font": {
           "size": 16
          },
          "showarrow": false,
          "text": "Crystal Palace",
          "x": 0.29000000000000004,
          "xanchor": "center",
          "xref": "paper",
          "y": 0.7250000000000001,
          "yanchor": "bottom",
          "yref": "paper"
         },
         {
          "font": {
           "size": 16
          },
          "showarrow": false,
          "text": "Everton",
          "x": 0.5,
          "xanchor": "center",
          "xref": "paper",
          "y": 0.7250000000000001,
          "yanchor": "bottom",
          "yref": "paper"
         },
         {
          "font": {
           "size": 16
          },
          "showarrow": false,
          "text": "Fulham",
          "x": 0.71,
          "xanchor": "center",
          "xref": "paper",
          "y": 0.7250000000000001,
          "yanchor": "bottom",
          "yref": "paper"
         },
         {
          "font": {
           "size": 16
          },
          "showarrow": false,
          "text": "Ipswich Town",
          "x": 0.92,
          "xanchor": "center",
          "xref": "paper",
          "y": 0.7250000000000001,
          "yanchor": "bottom",
          "yref": "paper"
         },
         {
          "font": {
           "size": 16
          },
          "showarrow": false,
          "text": "Leicester City",
          "x": 0.08,
          "xanchor": "center",
          "xref": "paper",
          "y": 0.45,
          "yanchor": "bottom",
          "yref": "paper"
         },
         {
          "font": {
           "size": 16
          },
          "showarrow": false,
          "text": "Liverpool",
          "x": 0.29000000000000004,
          "xanchor": "center",
          "xref": "paper",
          "y": 0.45,
          "yanchor": "bottom",
          "yref": "paper"
         },
         {
          "font": {
           "size": 16
          },
          "showarrow": false,
          "text": "Manchester City",
          "x": 0.5,
          "xanchor": "center",
          "xref": "paper",
          "y": 0.45,
          "yanchor": "bottom",
          "yref": "paper"
         },
         {
          "font": {
           "size": 16
          },
          "showarrow": false,
          "text": "Manchester Utd",
          "x": 0.71,
          "xanchor": "center",
          "xref": "paper",
          "y": 0.45,
          "yanchor": "bottom",
          "yref": "paper"
         },
         {
          "font": {
           "size": 16
          },
          "showarrow": false,
          "text": "Newcastle Utd",
          "x": 0.92,
          "xanchor": "center",
          "xref": "paper",
          "y": 0.45,
          "yanchor": "bottom",
          "yref": "paper"
         },
         {
          "font": {
           "size": 16
          },
          "showarrow": false,
          "text": "Nott'ham Forest",
          "x": 0.08,
          "xanchor": "center",
          "xref": "paper",
          "y": 0.175,
          "yanchor": "bottom",
          "yref": "paper"
         },
         {
          "font": {
           "size": 16
          },
          "showarrow": false,
          "text": "Southampton",
          "x": 0.29000000000000004,
          "xanchor": "center",
          "xref": "paper",
          "y": 0.175,
          "yanchor": "bottom",
          "yref": "paper"
         },
         {
          "font": {
           "size": 16
          },
          "showarrow": false,
          "text": "Tottenham",
          "x": 0.5,
          "xanchor": "center",
          "xref": "paper",
          "y": 0.175,
          "yanchor": "bottom",
          "yref": "paper"
         },
         {
          "font": {
           "size": 16
          },
          "showarrow": false,
          "text": "West Ham",
          "x": 0.71,
          "xanchor": "center",
          "xref": "paper",
          "y": 0.175,
          "yanchor": "bottom",
          "yref": "paper"
         },
         {
          "font": {
           "size": 16
          },
          "showarrow": false,
          "text": "Wolves",
          "x": 0.92,
          "xanchor": "center",
          "xref": "paper",
          "y": 0.175,
          "yanchor": "bottom",
          "yref": "paper"
         },
         {
          "align": "center",
          "font": {
           "color": "gray",
           "family": "Raleway",
           "size": 16
          },
          "showarrow": false,
          "text": "Expected goals (xG) for and against per game | Premier League, 2024-25",
          "x": 0,
          "xref": "paper",
          "y": 1.06,
          "yref": "paper"
         },
         {
          "align": "center",
          "font": {
           "color": "black",
           "family": "Raleway",
           "size": 18
          },
          "showarrow": false,
          "text": "xG Against",
          "x": 0.5,
          "xref": "paper",
          "y": -0.07,
          "yref": "paper"
         },
         {
          "align": "center",
          "font": {
           "color": "black",
           "family": "Raleway",
           "size": 18
          },
          "showarrow": false,
          "text": "xG For",
          "textangle": -90,
          "x": -0.04,
          "xref": "paper",
          "y": 0.5,
          "yref": "paper"
         }
        ],
        "height": 900,
        "paper_bgcolor": "#f7f8f3",
        "plot_bgcolor": "#f7f8f3",
        "template": {
         "data": {
          "bar": [
           {
            "error_x": {
             "color": "#2a3f5f"
            },
            "error_y": {
             "color": "#2a3f5f"
            },
            "marker": {
             "line": {
              "color": "#E5ECF6",
              "width": 0.5
             },
             "pattern": {
              "fillmode": "overlay",
              "size": 10,
              "solidity": 0.2
             }
            },
            "type": "bar"
           }
          ],
          "barpolar": [
           {
            "marker": {
             "line": {
              "color": "#E5ECF6",
              "width": 0.5
             },
             "pattern": {
              "fillmode": "overlay",
              "size": 10,
              "solidity": 0.2
             }
            },
            "type": "barpolar"
           }
          ],
          "carpet": [
           {
            "aaxis": {
             "endlinecolor": "#2a3f5f",
             "gridcolor": "white",
             "linecolor": "white",
             "minorgridcolor": "white",
             "startlinecolor": "#2a3f5f"
            },
            "baxis": {
             "endlinecolor": "#2a3f5f",
             "gridcolor": "white",
             "linecolor": "white",
             "minorgridcolor": "white",
             "startlinecolor": "#2a3f5f"
            },
            "type": "carpet"
           }
          ],
          "choropleth": [
           {
            "colorbar": {
             "outlinewidth": 0,
             "ticks": ""
            },
            "type": "choropleth"
           }
          ],
          "contour": [
           {
            "colorbar": {
             "outlinewidth": 0,
             "ticks": ""
            },
            "colorscale": [
             [
              0,
              "#0d0887"
             ],
             [
              0.1111111111111111,
              "#46039f"
             ],
             [
              0.2222222222222222,
              "#7201a8"
             ],
             [
              0.3333333333333333,
              "#9c179e"
             ],
             [
              0.4444444444444444,
              "#bd3786"
             ],
             [
              0.5555555555555556,
              "#d8576b"
             ],
             [
              0.6666666666666666,
              "#ed7953"
             ],
             [
              0.7777777777777778,
              "#fb9f3a"
             ],
             [
              0.8888888888888888,
              "#fdca26"
             ],
             [
              1,
              "#f0f921"
             ]
            ],
            "type": "contour"
           }
          ],
          "contourcarpet": [
           {
            "colorbar": {
             "outlinewidth": 0,
             "ticks": ""
            },
            "type": "contourcarpet"
           }
          ],
          "heatmap": [
           {
            "colorbar": {
             "outlinewidth": 0,
             "ticks": ""
            },
            "colorscale": [
             [
              0,
              "#0d0887"
             ],
             [
              0.1111111111111111,
              "#46039f"
             ],
             [
              0.2222222222222222,
              "#7201a8"
             ],
             [
              0.3333333333333333,
              "#9c179e"
             ],
             [
              0.4444444444444444,
              "#bd3786"
             ],
             [
              0.5555555555555556,
              "#d8576b"
             ],
             [
              0.6666666666666666,
              "#ed7953"
             ],
             [
              0.7777777777777778,
              "#fb9f3a"
             ],
             [
              0.8888888888888888,
              "#fdca26"
             ],
             [
              1,
              "#f0f921"
             ]
            ],
            "type": "heatmap"
           }
          ],
          "heatmapgl": [
           {
            "colorbar": {
             "outlinewidth": 0,
             "ticks": ""
            },
            "colorscale": [
             [
              0,
              "#0d0887"
             ],
             [
              0.1111111111111111,
              "#46039f"
             ],
             [
              0.2222222222222222,
              "#7201a8"
             ],
             [
              0.3333333333333333,
              "#9c179e"
             ],
             [
              0.4444444444444444,
              "#bd3786"
             ],
             [
              0.5555555555555556,
              "#d8576b"
             ],
             [
              0.6666666666666666,
              "#ed7953"
             ],
             [
              0.7777777777777778,
              "#fb9f3a"
             ],
             [
              0.8888888888888888,
              "#fdca26"
             ],
             [
              1,
              "#f0f921"
             ]
            ],
            "type": "heatmapgl"
           }
          ],
          "histogram": [
           {
            "marker": {
             "pattern": {
              "fillmode": "overlay",
              "size": 10,
              "solidity": 0.2
             }
            },
            "type": "histogram"
           }
          ],
          "histogram2d": [
           {
            "colorbar": {
             "outlinewidth": 0,
             "ticks": ""
            },
            "colorscale": [
             [
              0,
              "#0d0887"
             ],
             [
              0.1111111111111111,
              "#46039f"
             ],
             [
              0.2222222222222222,
              "#7201a8"
             ],
             [
              0.3333333333333333,
              "#9c179e"
             ],
             [
              0.4444444444444444,
              "#bd3786"
             ],
             [
              0.5555555555555556,
              "#d8576b"
             ],
             [
              0.6666666666666666,
              "#ed7953"
             ],
             [
              0.7777777777777778,
              "#fb9f3a"
             ],
             [
              0.8888888888888888,
              "#fdca26"
             ],
             [
              1,
              "#f0f921"
             ]
            ],
            "type": "histogram2d"
           }
          ],
          "histogram2dcontour": [
           {
            "colorbar": {
             "outlinewidth": 0,
             "ticks": ""
            },
            "colorscale": [
             [
              0,
              "#0d0887"
             ],
             [
              0.1111111111111111,
              "#46039f"
             ],
             [
              0.2222222222222222,
              "#7201a8"
             ],
             [
              0.3333333333333333,
              "#9c179e"
             ],
             [
              0.4444444444444444,
              "#bd3786"
             ],
             [
              0.5555555555555556,
              "#d8576b"
             ],
             [
              0.6666666666666666,
              "#ed7953"
             ],
             [
              0.7777777777777778,
              "#fb9f3a"
             ],
             [
              0.8888888888888888,
              "#fdca26"
             ],
             [
              1,
              "#f0f921"
             ]
            ],
            "type": "histogram2dcontour"
           }
          ],
          "mesh3d": [
           {
            "colorbar": {
             "outlinewidth": 0,
             "ticks": ""
            },
            "type": "mesh3d"
           }
          ],
          "parcoords": [
           {
            "line": {
             "colorbar": {
              "outlinewidth": 0,
              "ticks": ""
             }
            },
            "type": "parcoords"
           }
          ],
          "pie": [
           {
            "automargin": true,
            "type": "pie"
           }
          ],
          "scatter": [
           {
            "fillpattern": {
             "fillmode": "overlay",
             "size": 10,
             "solidity": 0.2
            },
            "type": "scatter"
           }
          ],
          "scatter3d": [
           {
            "line": {
             "colorbar": {
              "outlinewidth": 0,
              "ticks": ""
             }
            },
            "marker": {
             "colorbar": {
              "outlinewidth": 0,
              "ticks": ""
             }
            },
            "type": "scatter3d"
           }
          ],
          "scattercarpet": [
           {
            "marker": {
             "colorbar": {
              "outlinewidth": 0,
              "ticks": ""
             }
            },
            "type": "scattercarpet"
           }
          ],
          "scattergeo": [
           {
            "marker": {
             "colorbar": {
              "outlinewidth": 0,
              "ticks": ""
             }
            },
            "type": "scattergeo"
           }
          ],
          "scattergl": [
           {
            "marker": {
             "colorbar": {
              "outlinewidth": 0,
              "ticks": ""
             }
            },
            "type": "scattergl"
           }
          ],
          "scattermapbox": [
           {
            "marker": {
             "colorbar": {
              "outlinewidth": 0,
              "ticks": ""
             }
            },
            "type": "scattermapbox"
           }
          ],
          "scatterpolar": [
           {
            "marker": {
             "colorbar": {
              "outlinewidth": 0,
              "ticks": ""
             }
            },
            "type": "scatterpolar"
           }
          ],
          "scatterpolargl": [
           {
            "marker": {
             "colorbar": {
              "outlinewidth": 0,
              "ticks": ""
             }
            },
            "type": "scatterpolargl"
           }
          ],
          "scatterternary": [
           {
            "marker": {
             "colorbar": {
              "outlinewidth": 0,
              "ticks": ""
             }
            },
            "type": "scatterternary"
           }
          ],
          "surface": [
           {
            "colorbar": {
             "outlinewidth": 0,
             "ticks": ""
            },
            "colorscale": [
             [
              0,
              "#0d0887"
             ],
             [
              0.1111111111111111,
              "#46039f"
             ],
             [
              0.2222222222222222,
              "#7201a8"
             ],
             [
              0.3333333333333333,
              "#9c179e"
             ],
             [
              0.4444444444444444,
              "#bd3786"
             ],
             [
              0.5555555555555556,
              "#d8576b"
             ],
             [
              0.6666666666666666,
              "#ed7953"
             ],
             [
              0.7777777777777778,
              "#fb9f3a"
             ],
             [
              0.8888888888888888,
              "#fdca26"
             ],
             [
              1,
              "#f0f921"
             ]
            ],
            "type": "surface"
           }
          ],
          "table": [
           {
            "cells": {
             "fill": {
              "color": "#EBF0F8"
             },
             "line": {
              "color": "white"
             }
            },
            "header": {
             "fill": {
              "color": "#C8D4E3"
             },
             "line": {
              "color": "white"
             }
            },
            "type": "table"
           }
          ]
         },
         "layout": {
          "annotationdefaults": {
           "arrowcolor": "#2a3f5f",
           "arrowhead": 0,
           "arrowwidth": 1
          },
          "autotypenumbers": "strict",
          "coloraxis": {
           "colorbar": {
            "outlinewidth": 0,
            "ticks": ""
           }
          },
          "colorscale": {
           "diverging": [
            [
             0,
             "#8e0152"
            ],
            [
             0.1,
             "#c51b7d"
            ],
            [
             0.2,
             "#de77ae"
            ],
            [
             0.3,
             "#f1b6da"
            ],
            [
             0.4,
             "#fde0ef"
            ],
            [
             0.5,
             "#f7f7f7"
            ],
            [
             0.6,
             "#e6f5d0"
            ],
            [
             0.7,
             "#b8e186"
            ],
            [
             0.8,
             "#7fbc41"
            ],
            [
             0.9,
             "#4d9221"
            ],
            [
             1,
             "#276419"
            ]
           ],
           "sequential": [
            [
             0,
             "#0d0887"
            ],
            [
             0.1111111111111111,
             "#46039f"
            ],
            [
             0.2222222222222222,
             "#7201a8"
            ],
            [
             0.3333333333333333,
             "#9c179e"
            ],
            [
             0.4444444444444444,
             "#bd3786"
            ],
            [
             0.5555555555555556,
             "#d8576b"
            ],
            [
             0.6666666666666666,
             "#ed7953"
            ],
            [
             0.7777777777777778,
             "#fb9f3a"
            ],
            [
             0.8888888888888888,
             "#fdca26"
            ],
            [
             1,
             "#f0f921"
            ]
           ],
           "sequentialminus": [
            [
             0,
             "#0d0887"
            ],
            [
             0.1111111111111111,
             "#46039f"
            ],
            [
             0.2222222222222222,
             "#7201a8"
            ],
            [
             0.3333333333333333,
             "#9c179e"
            ],
            [
             0.4444444444444444,
             "#bd3786"
            ],
            [
             0.5555555555555556,
             "#d8576b"
            ],
            [
             0.6666666666666666,
             "#ed7953"
            ],
            [
             0.7777777777777778,
             "#fb9f3a"
            ],
            [
             0.8888888888888888,
             "#fdca26"
            ],
            [
             1,
             "#f0f921"
            ]
           ]
          },
          "colorway": [
           "#636efa",
           "#EF553B",
           "#00cc96",
           "#ab63fa",
           "#FFA15A",
           "#19d3f3",
           "#FF6692",
           "#B6E880",
           "#FF97FF",
           "#FECB52"
          ],
          "font": {
           "color": "#2a3f5f"
          },
          "geo": {
           "bgcolor": "white",
           "lakecolor": "white",
           "landcolor": "#E5ECF6",
           "showlakes": true,
           "showland": true,
           "subunitcolor": "white"
          },
          "hoverlabel": {
           "align": "left"
          },
          "hovermode": "closest",
          "mapbox": {
           "style": "light"
          },
          "paper_bgcolor": "white",
          "plot_bgcolor": "#E5ECF6",
          "polar": {
           "angularaxis": {
            "gridcolor": "white",
            "linecolor": "white",
            "ticks": ""
           },
           "bgcolor": "#E5ECF6",
           "radialaxis": {
            "gridcolor": "white",
            "linecolor": "white",
            "ticks": ""
           }
          },
          "scene": {
           "xaxis": {
            "backgroundcolor": "#E5ECF6",
            "gridcolor": "white",
            "gridwidth": 2,
            "linecolor": "white",
            "showbackground": true,
            "ticks": "",
            "zerolinecolor": "white"
           },
           "yaxis": {
            "backgroundcolor": "#E5ECF6",
            "gridcolor": "white",
            "gridwidth": 2,
            "linecolor": "white",
            "showbackground": true,
            "ticks": "",
            "zerolinecolor": "white"
           },
           "zaxis": {
            "backgroundcolor": "#E5ECF6",
            "gridcolor": "white",
            "gridwidth": 2,
            "linecolor": "white",
            "showbackground": true,
            "ticks": "",
            "zerolinecolor": "white"
           }
          },
          "shapedefaults": {
           "line": {
            "color": "#2a3f5f"
           }
          },
          "ternary": {
           "aaxis": {
            "gridcolor": "white",
            "linecolor": "white",
            "ticks": ""
           },
           "baxis": {
            "gridcolor": "white",
            "linecolor": "white",
            "ticks": ""
           },
           "bgcolor": "#E5ECF6",
           "caxis": {
            "gridcolor": "white",
            "linecolor": "white",
            "ticks": ""
           }
          },
          "title": {
           "x": 0.05
          },
          "xaxis": {
           "automargin": true,
           "gridcolor": "white",
           "linecolor": "white",
           "ticks": "",
           "title": {
            "standoff": 15
           },
           "zerolinecolor": "white",
           "zerolinewidth": 2
          },
          "yaxis": {
           "automargin": true,
           "gridcolor": "white",
           "linecolor": "white",
           "ticks": "",
           "title": {
            "standoff": 15
           },
           "zerolinecolor": "white",
           "zerolinewidth": 2
          }
         }
        },
        "title": {
         "font": {
          "color": "black",
          "family": "Arial Black",
          "size": 18
         },
         "text": "How have each Premier League team performed in both boxes?"
        },
        "width": 1600,
        "xaxis": {
         "anchor": "y",
         "domain": [
          0,
          0.16
         ],
         "gridcolor": "#BBC4C2",
         "griddash": "dot",
         "tickvals": [
          0,
          1,
          2,
          3,
          4,
          5
         ]
        },
        "xaxis10": {
         "anchor": "y10",
         "domain": [
          0.8400000000000001,
          1
         ],
         "gridcolor": "#BBC4C2",
         "griddash": "dot",
         "tickvals": [
          0,
          1,
          2,
          3,
          4,
          5
         ]
        },
        "xaxis11": {
         "anchor": "y11",
         "domain": [
          0,
          0.16
         ],
         "gridcolor": "#BBC4C2",
         "griddash": "dot",
         "tickvals": [
          0,
          1,
          2,
          3,
          4,
          5
         ]
        },
        "xaxis12": {
         "anchor": "y12",
         "domain": [
          0.21000000000000002,
          0.37
         ],
         "gridcolor": "#BBC4C2",
         "griddash": "dot",
         "tickvals": [
          0,
          1,
          2,
          3,
          4,
          5
         ]
        },
        "xaxis13": {
         "anchor": "y13",
         "domain": [
          0.42000000000000004,
          0.5800000000000001
         ],
         "gridcolor": "#BBC4C2",
         "griddash": "dot",
         "tickvals": [
          0,
          1,
          2,
          3,
          4,
          5
         ]
        },
        "xaxis14": {
         "anchor": "y14",
         "domain": [
          0.63,
          0.79
         ],
         "gridcolor": "#BBC4C2",
         "griddash": "dot",
         "tickvals": [
          0,
          1,
          2,
          3,
          4,
          5
         ]
        },
        "xaxis15": {
         "anchor": "y15",
         "domain": [
          0.8400000000000001,
          1
         ],
         "gridcolor": "#BBC4C2",
         "griddash": "dot",
         "tickvals": [
          0,
          1,
          2,
          3,
          4,
          5
         ]
        },
        "xaxis16": {
         "anchor": "y16",
         "domain": [
          0,
          0.16
         ],
         "gridcolor": "#BBC4C2",
         "griddash": "dot",
         "tickvals": [
          0,
          1,
          2,
          3,
          4,
          5
         ]
        },
        "xaxis17": {
         "anchor": "y17",
         "domain": [
          0.21000000000000002,
          0.37
         ],
         "gridcolor": "#BBC4C2",
         "griddash": "dot",
         "tickvals": [
          0,
          1,
          2,
          3,
          4,
          5
         ]
        },
        "xaxis18": {
         "anchor": "y18",
         "domain": [
          0.42000000000000004,
          0.5800000000000001
         ],
         "gridcolor": "#BBC4C2",
         "griddash": "dot",
         "tickvals": [
          0,
          1,
          2,
          3,
          4,
          5
         ]
        },
        "xaxis19": {
         "anchor": "y19",
         "domain": [
          0.63,
          0.79
         ],
         "gridcolor": "#BBC4C2",
         "griddash": "dot",
         "tickvals": [
          0,
          1,
          2,
          3,
          4,
          5
         ]
        },
        "xaxis2": {
         "anchor": "y2",
         "domain": [
          0.21000000000000002,
          0.37
         ],
         "gridcolor": "#BBC4C2",
         "griddash": "dot",
         "tickvals": [
          0,
          1,
          2,
          3,
          4,
          5
         ]
        },
        "xaxis20": {
         "anchor": "y20",
         "domain": [
          0.8400000000000001,
          1
         ],
         "gridcolor": "#BBC4C2",
         "griddash": "dot",
         "tickvals": [
          0,
          1,
          2,
          3,
          4,
          5
         ]
        },
        "xaxis3": {
         "anchor": "y3",
         "domain": [
          0.42000000000000004,
          0.5800000000000001
         ],
         "gridcolor": "#BBC4C2",
         "griddash": "dot",
         "tickvals": [
          0,
          1,
          2,
          3,
          4,
          5
         ]
        },
        "xaxis4": {
         "anchor": "y4",
         "domain": [
          0.63,
          0.79
         ],
         "gridcolor": "#BBC4C2",
         "griddash": "dot",
         "tickvals": [
          0,
          1,
          2,
          3,
          4,
          5
         ]
        },
        "xaxis5": {
         "anchor": "y5",
         "domain": [
          0.8400000000000001,
          1
         ],
         "gridcolor": "#BBC4C2",
         "griddash": "dot",
         "tickvals": [
          0,
          1,
          2,
          3,
          4,
          5
         ]
        },
        "xaxis6": {
         "anchor": "y6",
         "domain": [
          0,
          0.16
         ],
         "gridcolor": "#BBC4C2",
         "griddash": "dot",
         "tickvals": [
          0,
          1,
          2,
          3,
          4,
          5
         ]
        },
        "xaxis7": {
         "anchor": "y7",
         "domain": [
          0.21000000000000002,
          0.37
         ],
         "gridcolor": "#BBC4C2",
         "griddash": "dot",
         "tickvals": [
          0,
          1,
          2,
          3,
          4,
          5
         ]
        },
        "xaxis8": {
         "anchor": "y8",
         "domain": [
          0.42000000000000004,
          0.5800000000000001
         ],
         "gridcolor": "#BBC4C2",
         "griddash": "dot",
         "tickvals": [
          0,
          1,
          2,
          3,
          4,
          5
         ]
        },
        "xaxis9": {
         "anchor": "y9",
         "domain": [
          0.63,
          0.79
         ],
         "gridcolor": "#BBC4C2",
         "griddash": "dot",
         "tickvals": [
          0,
          1,
          2,
          3,
          4,
          5
         ]
        },
        "yaxis": {
         "anchor": "x",
         "domain": [
          0.825,
          1
         ],
         "gridcolor": "#BBC4C2",
         "griddash": "dot",
         "tickvals": [
          0,
          1,
          2,
          3,
          4,
          5
         ]
        },
        "yaxis10": {
         "anchor": "x10",
         "domain": [
          0.55,
          0.7250000000000001
         ],
         "gridcolor": "#BBC4C2",
         "griddash": "dot",
         "tickvals": [
          0,
          1,
          2,
          3,
          4,
          5
         ]
        },
        "yaxis11": {
         "anchor": "x11",
         "domain": [
          0.275,
          0.45
         ],
         "gridcolor": "#BBC4C2",
         "griddash": "dot",
         "tickvals": [
          0,
          1,
          2,
          3,
          4,
          5
         ]
        },
        "yaxis12": {
         "anchor": "x12",
         "domain": [
          0.275,
          0.45
         ],
         "gridcolor": "#BBC4C2",
         "griddash": "dot",
         "tickvals": [
          0,
          1,
          2,
          3,
          4,
          5
         ]
        },
        "yaxis13": {
         "anchor": "x13",
         "domain": [
          0.275,
          0.45
         ],
         "gridcolor": "#BBC4C2",
         "griddash": "dot",
         "tickvals": [
          0,
          1,
          2,
          3,
          4,
          5
         ]
        },
        "yaxis14": {
         "anchor": "x14",
         "domain": [
          0.275,
          0.45
         ],
         "gridcolor": "#BBC4C2",
         "griddash": "dot",
         "tickvals": [
          0,
          1,
          2,
          3,
          4,
          5
         ]
        },
        "yaxis15": {
         "anchor": "x15",
         "domain": [
          0.275,
          0.45
         ],
         "gridcolor": "#BBC4C2",
         "griddash": "dot",
         "tickvals": [
          0,
          1,
          2,
          3,
          4,
          5
         ]
        },
        "yaxis16": {
         "anchor": "x16",
         "domain": [
          0,
          0.175
         ],
         "gridcolor": "#BBC4C2",
         "griddash": "dot",
         "tickvals": [
          0,
          1,
          2,
          3,
          4,
          5
         ]
        },
        "yaxis17": {
         "anchor": "x17",
         "domain": [
          0,
          0.175
         ],
         "gridcolor": "#BBC4C2",
         "griddash": "dot",
         "tickvals": [
          0,
          1,
          2,
          3,
          4,
          5
         ]
        },
        "yaxis18": {
         "anchor": "x18",
         "domain": [
          0,
          0.175
         ],
         "gridcolor": "#BBC4C2",
         "griddash": "dot",
         "tickvals": [
          0,
          1,
          2,
          3,
          4,
          5
         ]
        },
        "yaxis19": {
         "anchor": "x19",
         "domain": [
          0,
          0.175
         ],
         "gridcolor": "#BBC4C2",
         "griddash": "dot",
         "tickvals": [
          0,
          1,
          2,
          3,
          4,
          5
         ]
        },
        "yaxis2": {
         "anchor": "x2",
         "domain": [
          0.825,
          1
         ],
         "gridcolor": "#BBC4C2",
         "griddash": "dot",
         "tickvals": [
          0,
          1,
          2,
          3,
          4,
          5
         ]
        },
        "yaxis20": {
         "anchor": "x20",
         "domain": [
          0,
          0.175
         ],
         "gridcolor": "#BBC4C2",
         "griddash": "dot",
         "tickvals": [
          0,
          1,
          2,
          3,
          4,
          5
         ]
        },
        "yaxis3": {
         "anchor": "x3",
         "domain": [
          0.825,
          1
         ],
         "gridcolor": "#BBC4C2",
         "griddash": "dot",
         "tickvals": [
          0,
          1,
          2,
          3,
          4,
          5
         ]
        },
        "yaxis4": {
         "anchor": "x4",
         "domain": [
          0.825,
          1
         ],
         "gridcolor": "#BBC4C2",
         "griddash": "dot",
         "tickvals": [
          0,
          1,
          2,
          3,
          4,
          5
         ]
        },
        "yaxis5": {
         "anchor": "x5",
         "domain": [
          0.825,
          1
         ],
         "gridcolor": "#BBC4C2",
         "griddash": "dot",
         "tickvals": [
          0,
          1,
          2,
          3,
          4,
          5
         ]
        },
        "yaxis6": {
         "anchor": "x6",
         "domain": [
          0.55,
          0.7250000000000001
         ],
         "gridcolor": "#BBC4C2",
         "griddash": "dot",
         "tickvals": [
          0,
          1,
          2,
          3,
          4,
          5
         ]
        },
        "yaxis7": {
         "anchor": "x7",
         "domain": [
          0.55,
          0.7250000000000001
         ],
         "gridcolor": "#BBC4C2",
         "griddash": "dot",
         "tickvals": [
          0,
          1,
          2,
          3,
          4,
          5
         ]
        },
        "yaxis8": {
         "anchor": "x8",
         "domain": [
          0.55,
          0.7250000000000001
         ],
         "gridcolor": "#BBC4C2",
         "griddash": "dot",
         "tickvals": [
          0,
          1,
          2,
          3,
          4,
          5
         ]
        },
        "yaxis9": {
         "anchor": "x9",
         "domain": [
          0.55,
          0.7250000000000001
         ],
         "gridcolor": "#BBC4C2",
         "griddash": "dot",
         "tickvals": [
          0,
          1,
          2,
          3,
          4,
          5
         ]
        }
       }
      }
     },
     "metadata": {},
     "output_type": "display_data"
    }
   ],
   "source": [
    "plot_xgd(url)"
   ]
  }
 ],
 "metadata": {
  "kernelspec": {
   "display_name": "Python 3",
   "language": "python",
   "name": "python3"
  },
  "language_info": {
   "codemirror_mode": {
    "name": "ipython",
    "version": 3
   },
   "file_extension": ".py",
   "mimetype": "text/x-python",
   "name": "python",
   "nbconvert_exporter": "python",
   "pygments_lexer": "ipython3",
   "version": "3.11.5"
  }
 },
 "nbformat": 4,
 "nbformat_minor": 2
}
